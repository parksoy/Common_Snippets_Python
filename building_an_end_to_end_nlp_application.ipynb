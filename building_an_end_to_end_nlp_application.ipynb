{
  "metadata": {
    "kernelspec": {
      "language": "python",
      "display_name": "Python 3",
      "name": "python3"
    },
    "language_info": {
      "name": "python",
      "version": "3.7.12",
      "mimetype": "text/x-python",
      "codemirror_mode": {
        "name": "ipython",
        "version": 3
      },
      "pygments_lexer": "ipython3",
      "nbconvert_exporter": "python",
      "file_extension": ".py"
    },
    "colab": {
      "provenance": [],
      "include_colab_link": true
    },
    "accelerator": "GPU",
    "widgets": {
      "application/vnd.jupyter.widget-state+json": {
        "09129e1d924044c6abcb19d5f35d8e04": {
          "model_module": "@jupyter-widgets/controls",
          "model_name": "HBoxModel",
          "model_module_version": "1.5.0",
          "state": {
            "_dom_classes": [],
            "_model_module": "@jupyter-widgets/controls",
            "_model_module_version": "1.5.0",
            "_model_name": "HBoxModel",
            "_view_count": null,
            "_view_module": "@jupyter-widgets/controls",
            "_view_module_version": "1.5.0",
            "_view_name": "HBoxView",
            "box_style": "",
            "children": [
              "IPY_MODEL_bc87179bb2f0448da7ee2c7ddb7975c5",
              "IPY_MODEL_d8a5f15e3ed6407ab019d83c4075c335",
              "IPY_MODEL_f60ecd92c7ff4004a97f87e111c53c6a"
            ],
            "layout": "IPY_MODEL_8272850702164f9591d4a496e152186b"
          }
        },
        "bc87179bb2f0448da7ee2c7ddb7975c5": {
          "model_module": "@jupyter-widgets/controls",
          "model_name": "HTMLModel",
          "model_module_version": "1.5.0",
          "state": {
            "_dom_classes": [],
            "_model_module": "@jupyter-widgets/controls",
            "_model_module_version": "1.5.0",
            "_model_name": "HTMLModel",
            "_view_count": null,
            "_view_module": "@jupyter-widgets/controls",
            "_view_module_version": "1.5.0",
            "_view_name": "HTMLView",
            "description": "",
            "description_tooltip": null,
            "layout": "IPY_MODEL_7af7cdf94506482390ae5b03b69763e6",
            "placeholder": "​",
            "style": "IPY_MODEL_4e56e4ad3e0240609975aa5c248ef37d",
            "value": "Downloading (…)okenizer_config.json: 100%"
          }
        },
        "d8a5f15e3ed6407ab019d83c4075c335": {
          "model_module": "@jupyter-widgets/controls",
          "model_name": "FloatProgressModel",
          "model_module_version": "1.5.0",
          "state": {
            "_dom_classes": [],
            "_model_module": "@jupyter-widgets/controls",
            "_model_module_version": "1.5.0",
            "_model_name": "FloatProgressModel",
            "_view_count": null,
            "_view_module": "@jupyter-widgets/controls",
            "_view_module_version": "1.5.0",
            "_view_name": "ProgressView",
            "bar_style": "success",
            "description": "",
            "description_tooltip": null,
            "layout": "IPY_MODEL_6bb92e8c9c0c4716bea1bedcd9b6f313",
            "max": 48,
            "min": 0,
            "orientation": "horizontal",
            "style": "IPY_MODEL_29b339b7034f45e89c511d4e2cba694c",
            "value": 48
          }
        },
        "f60ecd92c7ff4004a97f87e111c53c6a": {
          "model_module": "@jupyter-widgets/controls",
          "model_name": "HTMLModel",
          "model_module_version": "1.5.0",
          "state": {
            "_dom_classes": [],
            "_model_module": "@jupyter-widgets/controls",
            "_model_module_version": "1.5.0",
            "_model_name": "HTMLModel",
            "_view_count": null,
            "_view_module": "@jupyter-widgets/controls",
            "_view_module_version": "1.5.0",
            "_view_name": "HTMLView",
            "description": "",
            "description_tooltip": null,
            "layout": "IPY_MODEL_75e78c7ec65f4857920c33910ac92b95",
            "placeholder": "​",
            "style": "IPY_MODEL_63ffb7982c5c4a368264282cc2f1dd4a",
            "value": " 48.0/48.0 [00:00&lt;00:00, 3.00kB/s]"
          }
        },
        "8272850702164f9591d4a496e152186b": {
          "model_module": "@jupyter-widgets/base",
          "model_name": "LayoutModel",
          "model_module_version": "1.2.0",
          "state": {
            "_model_module": "@jupyter-widgets/base",
            "_model_module_version": "1.2.0",
            "_model_name": "LayoutModel",
            "_view_count": null,
            "_view_module": "@jupyter-widgets/base",
            "_view_module_version": "1.2.0",
            "_view_name": "LayoutView",
            "align_content": null,
            "align_items": null,
            "align_self": null,
            "border": null,
            "bottom": null,
            "display": null,
            "flex": null,
            "flex_flow": null,
            "grid_area": null,
            "grid_auto_columns": null,
            "grid_auto_flow": null,
            "grid_auto_rows": null,
            "grid_column": null,
            "grid_gap": null,
            "grid_row": null,
            "grid_template_areas": null,
            "grid_template_columns": null,
            "grid_template_rows": null,
            "height": null,
            "justify_content": null,
            "justify_items": null,
            "left": null,
            "margin": null,
            "max_height": null,
            "max_width": null,
            "min_height": null,
            "min_width": null,
            "object_fit": null,
            "object_position": null,
            "order": null,
            "overflow": null,
            "overflow_x": null,
            "overflow_y": null,
            "padding": null,
            "right": null,
            "top": null,
            "visibility": null,
            "width": null
          }
        },
        "7af7cdf94506482390ae5b03b69763e6": {
          "model_module": "@jupyter-widgets/base",
          "model_name": "LayoutModel",
          "model_module_version": "1.2.0",
          "state": {
            "_model_module": "@jupyter-widgets/base",
            "_model_module_version": "1.2.0",
            "_model_name": "LayoutModel",
            "_view_count": null,
            "_view_module": "@jupyter-widgets/base",
            "_view_module_version": "1.2.0",
            "_view_name": "LayoutView",
            "align_content": null,
            "align_items": null,
            "align_self": null,
            "border": null,
            "bottom": null,
            "display": null,
            "flex": null,
            "flex_flow": null,
            "grid_area": null,
            "grid_auto_columns": null,
            "grid_auto_flow": null,
            "grid_auto_rows": null,
            "grid_column": null,
            "grid_gap": null,
            "grid_row": null,
            "grid_template_areas": null,
            "grid_template_columns": null,
            "grid_template_rows": null,
            "height": null,
            "justify_content": null,
            "justify_items": null,
            "left": null,
            "margin": null,
            "max_height": null,
            "max_width": null,
            "min_height": null,
            "min_width": null,
            "object_fit": null,
            "object_position": null,
            "order": null,
            "overflow": null,
            "overflow_x": null,
            "overflow_y": null,
            "padding": null,
            "right": null,
            "top": null,
            "visibility": null,
            "width": null
          }
        },
        "4e56e4ad3e0240609975aa5c248ef37d": {
          "model_module": "@jupyter-widgets/controls",
          "model_name": "DescriptionStyleModel",
          "model_module_version": "1.5.0",
          "state": {
            "_model_module": "@jupyter-widgets/controls",
            "_model_module_version": "1.5.0",
            "_model_name": "DescriptionStyleModel",
            "_view_count": null,
            "_view_module": "@jupyter-widgets/base",
            "_view_module_version": "1.2.0",
            "_view_name": "StyleView",
            "description_width": ""
          }
        },
        "6bb92e8c9c0c4716bea1bedcd9b6f313": {
          "model_module": "@jupyter-widgets/base",
          "model_name": "LayoutModel",
          "model_module_version": "1.2.0",
          "state": {
            "_model_module": "@jupyter-widgets/base",
            "_model_module_version": "1.2.0",
            "_model_name": "LayoutModel",
            "_view_count": null,
            "_view_module": "@jupyter-widgets/base",
            "_view_module_version": "1.2.0",
            "_view_name": "LayoutView",
            "align_content": null,
            "align_items": null,
            "align_self": null,
            "border": null,
            "bottom": null,
            "display": null,
            "flex": null,
            "flex_flow": null,
            "grid_area": null,
            "grid_auto_columns": null,
            "grid_auto_flow": null,
            "grid_auto_rows": null,
            "grid_column": null,
            "grid_gap": null,
            "grid_row": null,
            "grid_template_areas": null,
            "grid_template_columns": null,
            "grid_template_rows": null,
            "height": null,
            "justify_content": null,
            "justify_items": null,
            "left": null,
            "margin": null,
            "max_height": null,
            "max_width": null,
            "min_height": null,
            "min_width": null,
            "object_fit": null,
            "object_position": null,
            "order": null,
            "overflow": null,
            "overflow_x": null,
            "overflow_y": null,
            "padding": null,
            "right": null,
            "top": null,
            "visibility": null,
            "width": null
          }
        },
        "29b339b7034f45e89c511d4e2cba694c": {
          "model_module": "@jupyter-widgets/controls",
          "model_name": "ProgressStyleModel",
          "model_module_version": "1.5.0",
          "state": {
            "_model_module": "@jupyter-widgets/controls",
            "_model_module_version": "1.5.0",
            "_model_name": "ProgressStyleModel",
            "_view_count": null,
            "_view_module": "@jupyter-widgets/base",
            "_view_module_version": "1.2.0",
            "_view_name": "StyleView",
            "bar_color": null,
            "description_width": ""
          }
        },
        "75e78c7ec65f4857920c33910ac92b95": {
          "model_module": "@jupyter-widgets/base",
          "model_name": "LayoutModel",
          "model_module_version": "1.2.0",
          "state": {
            "_model_module": "@jupyter-widgets/base",
            "_model_module_version": "1.2.0",
            "_model_name": "LayoutModel",
            "_view_count": null,
            "_view_module": "@jupyter-widgets/base",
            "_view_module_version": "1.2.0",
            "_view_name": "LayoutView",
            "align_content": null,
            "align_items": null,
            "align_self": null,
            "border": null,
            "bottom": null,
            "display": null,
            "flex": null,
            "flex_flow": null,
            "grid_area": null,
            "grid_auto_columns": null,
            "grid_auto_flow": null,
            "grid_auto_rows": null,
            "grid_column": null,
            "grid_gap": null,
            "grid_row": null,
            "grid_template_areas": null,
            "grid_template_columns": null,
            "grid_template_rows": null,
            "height": null,
            "justify_content": null,
            "justify_items": null,
            "left": null,
            "margin": null,
            "max_height": null,
            "max_width": null,
            "min_height": null,
            "min_width": null,
            "object_fit": null,
            "object_position": null,
            "order": null,
            "overflow": null,
            "overflow_x": null,
            "overflow_y": null,
            "padding": null,
            "right": null,
            "top": null,
            "visibility": null,
            "width": null
          }
        },
        "63ffb7982c5c4a368264282cc2f1dd4a": {
          "model_module": "@jupyter-widgets/controls",
          "model_name": "DescriptionStyleModel",
          "model_module_version": "1.5.0",
          "state": {
            "_model_module": "@jupyter-widgets/controls",
            "_model_module_version": "1.5.0",
            "_model_name": "DescriptionStyleModel",
            "_view_count": null,
            "_view_module": "@jupyter-widgets/base",
            "_view_module_version": "1.2.0",
            "_view_name": "StyleView",
            "description_width": ""
          }
        },
        "1d6cf94171d647118b15aedaafdad815": {
          "model_module": "@jupyter-widgets/controls",
          "model_name": "HBoxModel",
          "model_module_version": "1.5.0",
          "state": {
            "_dom_classes": [],
            "_model_module": "@jupyter-widgets/controls",
            "_model_module_version": "1.5.0",
            "_model_name": "HBoxModel",
            "_view_count": null,
            "_view_module": "@jupyter-widgets/controls",
            "_view_module_version": "1.5.0",
            "_view_name": "HBoxView",
            "box_style": "",
            "children": [
              "IPY_MODEL_ef50259581f64ba5ae036bf42238266f",
              "IPY_MODEL_3cc3273835604871a218c09f05236456",
              "IPY_MODEL_03d690036596412092c76a151d50899a"
            ],
            "layout": "IPY_MODEL_e84459f854f047f7a3e2c864b7c02a9a"
          }
        },
        "ef50259581f64ba5ae036bf42238266f": {
          "model_module": "@jupyter-widgets/controls",
          "model_name": "HTMLModel",
          "model_module_version": "1.5.0",
          "state": {
            "_dom_classes": [],
            "_model_module": "@jupyter-widgets/controls",
            "_model_module_version": "1.5.0",
            "_model_name": "HTMLModel",
            "_view_count": null,
            "_view_module": "@jupyter-widgets/controls",
            "_view_module_version": "1.5.0",
            "_view_name": "HTMLView",
            "description": "",
            "description_tooltip": null,
            "layout": "IPY_MODEL_d8e463c1eda34ebbab7281cf719057ad",
            "placeholder": "​",
            "style": "IPY_MODEL_af8799a5603347c5912a16ead35c1d01",
            "value": "Downloading (…)solve/main/vocab.txt: 100%"
          }
        },
        "3cc3273835604871a218c09f05236456": {
          "model_module": "@jupyter-widgets/controls",
          "model_name": "FloatProgressModel",
          "model_module_version": "1.5.0",
          "state": {
            "_dom_classes": [],
            "_model_module": "@jupyter-widgets/controls",
            "_model_module_version": "1.5.0",
            "_model_name": "FloatProgressModel",
            "_view_count": null,
            "_view_module": "@jupyter-widgets/controls",
            "_view_module_version": "1.5.0",
            "_view_name": "ProgressView",
            "bar_style": "success",
            "description": "",
            "description_tooltip": null,
            "layout": "IPY_MODEL_cb48597ee91c4ac4a0f4b740d98109a9",
            "max": 231508,
            "min": 0,
            "orientation": "horizontal",
            "style": "IPY_MODEL_9afe9adfa3f54ae1ba374e677ad2ee2f",
            "value": 231508
          }
        },
        "03d690036596412092c76a151d50899a": {
          "model_module": "@jupyter-widgets/controls",
          "model_name": "HTMLModel",
          "model_module_version": "1.5.0",
          "state": {
            "_dom_classes": [],
            "_model_module": "@jupyter-widgets/controls",
            "_model_module_version": "1.5.0",
            "_model_name": "HTMLModel",
            "_view_count": null,
            "_view_module": "@jupyter-widgets/controls",
            "_view_module_version": "1.5.0",
            "_view_name": "HTMLView",
            "description": "",
            "description_tooltip": null,
            "layout": "IPY_MODEL_bc17e17e15214639befd29a67490f126",
            "placeholder": "​",
            "style": "IPY_MODEL_57200ea75226426cae8eb5e4ecd1ffb7",
            "value": " 232k/232k [00:00&lt;00:00, 560kB/s]"
          }
        },
        "e84459f854f047f7a3e2c864b7c02a9a": {
          "model_module": "@jupyter-widgets/base",
          "model_name": "LayoutModel",
          "model_module_version": "1.2.0",
          "state": {
            "_model_module": "@jupyter-widgets/base",
            "_model_module_version": "1.2.0",
            "_model_name": "LayoutModel",
            "_view_count": null,
            "_view_module": "@jupyter-widgets/base",
            "_view_module_version": "1.2.0",
            "_view_name": "LayoutView",
            "align_content": null,
            "align_items": null,
            "align_self": null,
            "border": null,
            "bottom": null,
            "display": null,
            "flex": null,
            "flex_flow": null,
            "grid_area": null,
            "grid_auto_columns": null,
            "grid_auto_flow": null,
            "grid_auto_rows": null,
            "grid_column": null,
            "grid_gap": null,
            "grid_row": null,
            "grid_template_areas": null,
            "grid_template_columns": null,
            "grid_template_rows": null,
            "height": null,
            "justify_content": null,
            "justify_items": null,
            "left": null,
            "margin": null,
            "max_height": null,
            "max_width": null,
            "min_height": null,
            "min_width": null,
            "object_fit": null,
            "object_position": null,
            "order": null,
            "overflow": null,
            "overflow_x": null,
            "overflow_y": null,
            "padding": null,
            "right": null,
            "top": null,
            "visibility": null,
            "width": null
          }
        },
        "d8e463c1eda34ebbab7281cf719057ad": {
          "model_module": "@jupyter-widgets/base",
          "model_name": "LayoutModel",
          "model_module_version": "1.2.0",
          "state": {
            "_model_module": "@jupyter-widgets/base",
            "_model_module_version": "1.2.0",
            "_model_name": "LayoutModel",
            "_view_count": null,
            "_view_module": "@jupyter-widgets/base",
            "_view_module_version": "1.2.0",
            "_view_name": "LayoutView",
            "align_content": null,
            "align_items": null,
            "align_self": null,
            "border": null,
            "bottom": null,
            "display": null,
            "flex": null,
            "flex_flow": null,
            "grid_area": null,
            "grid_auto_columns": null,
            "grid_auto_flow": null,
            "grid_auto_rows": null,
            "grid_column": null,
            "grid_gap": null,
            "grid_row": null,
            "grid_template_areas": null,
            "grid_template_columns": null,
            "grid_template_rows": null,
            "height": null,
            "justify_content": null,
            "justify_items": null,
            "left": null,
            "margin": null,
            "max_height": null,
            "max_width": null,
            "min_height": null,
            "min_width": null,
            "object_fit": null,
            "object_position": null,
            "order": null,
            "overflow": null,
            "overflow_x": null,
            "overflow_y": null,
            "padding": null,
            "right": null,
            "top": null,
            "visibility": null,
            "width": null
          }
        },
        "af8799a5603347c5912a16ead35c1d01": {
          "model_module": "@jupyter-widgets/controls",
          "model_name": "DescriptionStyleModel",
          "model_module_version": "1.5.0",
          "state": {
            "_model_module": "@jupyter-widgets/controls",
            "_model_module_version": "1.5.0",
            "_model_name": "DescriptionStyleModel",
            "_view_count": null,
            "_view_module": "@jupyter-widgets/base",
            "_view_module_version": "1.2.0",
            "_view_name": "StyleView",
            "description_width": ""
          }
        },
        "cb48597ee91c4ac4a0f4b740d98109a9": {
          "model_module": "@jupyter-widgets/base",
          "model_name": "LayoutModel",
          "model_module_version": "1.2.0",
          "state": {
            "_model_module": "@jupyter-widgets/base",
            "_model_module_version": "1.2.0",
            "_model_name": "LayoutModel",
            "_view_count": null,
            "_view_module": "@jupyter-widgets/base",
            "_view_module_version": "1.2.0",
            "_view_name": "LayoutView",
            "align_content": null,
            "align_items": null,
            "align_self": null,
            "border": null,
            "bottom": null,
            "display": null,
            "flex": null,
            "flex_flow": null,
            "grid_area": null,
            "grid_auto_columns": null,
            "grid_auto_flow": null,
            "grid_auto_rows": null,
            "grid_column": null,
            "grid_gap": null,
            "grid_row": null,
            "grid_template_areas": null,
            "grid_template_columns": null,
            "grid_template_rows": null,
            "height": null,
            "justify_content": null,
            "justify_items": null,
            "left": null,
            "margin": null,
            "max_height": null,
            "max_width": null,
            "min_height": null,
            "min_width": null,
            "object_fit": null,
            "object_position": null,
            "order": null,
            "overflow": null,
            "overflow_x": null,
            "overflow_y": null,
            "padding": null,
            "right": null,
            "top": null,
            "visibility": null,
            "width": null
          }
        },
        "9afe9adfa3f54ae1ba374e677ad2ee2f": {
          "model_module": "@jupyter-widgets/controls",
          "model_name": "ProgressStyleModel",
          "model_module_version": "1.5.0",
          "state": {
            "_model_module": "@jupyter-widgets/controls",
            "_model_module_version": "1.5.0",
            "_model_name": "ProgressStyleModel",
            "_view_count": null,
            "_view_module": "@jupyter-widgets/base",
            "_view_module_version": "1.2.0",
            "_view_name": "StyleView",
            "bar_color": null,
            "description_width": ""
          }
        },
        "bc17e17e15214639befd29a67490f126": {
          "model_module": "@jupyter-widgets/base",
          "model_name": "LayoutModel",
          "model_module_version": "1.2.0",
          "state": {
            "_model_module": "@jupyter-widgets/base",
            "_model_module_version": "1.2.0",
            "_model_name": "LayoutModel",
            "_view_count": null,
            "_view_module": "@jupyter-widgets/base",
            "_view_module_version": "1.2.0",
            "_view_name": "LayoutView",
            "align_content": null,
            "align_items": null,
            "align_self": null,
            "border": null,
            "bottom": null,
            "display": null,
            "flex": null,
            "flex_flow": null,
            "grid_area": null,
            "grid_auto_columns": null,
            "grid_auto_flow": null,
            "grid_auto_rows": null,
            "grid_column": null,
            "grid_gap": null,
            "grid_row": null,
            "grid_template_areas": null,
            "grid_template_columns": null,
            "grid_template_rows": null,
            "height": null,
            "justify_content": null,
            "justify_items": null,
            "left": null,
            "margin": null,
            "max_height": null,
            "max_width": null,
            "min_height": null,
            "min_width": null,
            "object_fit": null,
            "object_position": null,
            "order": null,
            "overflow": null,
            "overflow_x": null,
            "overflow_y": null,
            "padding": null,
            "right": null,
            "top": null,
            "visibility": null,
            "width": null
          }
        },
        "57200ea75226426cae8eb5e4ecd1ffb7": {
          "model_module": "@jupyter-widgets/controls",
          "model_name": "DescriptionStyleModel",
          "model_module_version": "1.5.0",
          "state": {
            "_model_module": "@jupyter-widgets/controls",
            "_model_module_version": "1.5.0",
            "_model_name": "DescriptionStyleModel",
            "_view_count": null,
            "_view_module": "@jupyter-widgets/base",
            "_view_module_version": "1.2.0",
            "_view_name": "StyleView",
            "description_width": ""
          }
        },
        "3f394890031440a0a16f88ce54082368": {
          "model_module": "@jupyter-widgets/controls",
          "model_name": "HBoxModel",
          "model_module_version": "1.5.0",
          "state": {
            "_dom_classes": [],
            "_model_module": "@jupyter-widgets/controls",
            "_model_module_version": "1.5.0",
            "_model_name": "HBoxModel",
            "_view_count": null,
            "_view_module": "@jupyter-widgets/controls",
            "_view_module_version": "1.5.0",
            "_view_name": "HBoxView",
            "box_style": "",
            "children": [
              "IPY_MODEL_0c442537538d42b5bed46217a3a4bd32",
              "IPY_MODEL_1f9af89d54364ff4b920e84bb8b93999",
              "IPY_MODEL_d0cbb3d19c7c4bcabb7eb482700a4731"
            ],
            "layout": "IPY_MODEL_a6aba46e22d14bf1b00604f6a899a588"
          }
        },
        "0c442537538d42b5bed46217a3a4bd32": {
          "model_module": "@jupyter-widgets/controls",
          "model_name": "HTMLModel",
          "model_module_version": "1.5.0",
          "state": {
            "_dom_classes": [],
            "_model_module": "@jupyter-widgets/controls",
            "_model_module_version": "1.5.0",
            "_model_name": "HTMLModel",
            "_view_count": null,
            "_view_module": "@jupyter-widgets/controls",
            "_view_module_version": "1.5.0",
            "_view_name": "HTMLView",
            "description": "",
            "description_tooltip": null,
            "layout": "IPY_MODEL_0ac2ea08da344943bcb424276e90158a",
            "placeholder": "​",
            "style": "IPY_MODEL_6337cc2e957a48c491ce56e9b132a1a8",
            "value": "Downloading (…)lve/main/config.json: 100%"
          }
        },
        "1f9af89d54364ff4b920e84bb8b93999": {
          "model_module": "@jupyter-widgets/controls",
          "model_name": "FloatProgressModel",
          "model_module_version": "1.5.0",
          "state": {
            "_dom_classes": [],
            "_model_module": "@jupyter-widgets/controls",
            "_model_module_version": "1.5.0",
            "_model_name": "FloatProgressModel",
            "_view_count": null,
            "_view_module": "@jupyter-widgets/controls",
            "_view_module_version": "1.5.0",
            "_view_name": "ProgressView",
            "bar_style": "success",
            "description": "",
            "description_tooltip": null,
            "layout": "IPY_MODEL_ac8f67bafefe498c815b5da86de722ff",
            "max": 629,
            "min": 0,
            "orientation": "horizontal",
            "style": "IPY_MODEL_8c8965d9ce2a4665a6134f258bd1c0e1",
            "value": 629
          }
        },
        "d0cbb3d19c7c4bcabb7eb482700a4731": {
          "model_module": "@jupyter-widgets/controls",
          "model_name": "HTMLModel",
          "model_module_version": "1.5.0",
          "state": {
            "_dom_classes": [],
            "_model_module": "@jupyter-widgets/controls",
            "_model_module_version": "1.5.0",
            "_model_name": "HTMLModel",
            "_view_count": null,
            "_view_module": "@jupyter-widgets/controls",
            "_view_module_version": "1.5.0",
            "_view_name": "HTMLView",
            "description": "",
            "description_tooltip": null,
            "layout": "IPY_MODEL_e4e6b936066a4f94ac46d7930d40494b",
            "placeholder": "​",
            "style": "IPY_MODEL_632230f3984f453a981b101931d340aa",
            "value": " 629/629 [00:00&lt;00:00, 47.3kB/s]"
          }
        },
        "a6aba46e22d14bf1b00604f6a899a588": {
          "model_module": "@jupyter-widgets/base",
          "model_name": "LayoutModel",
          "model_module_version": "1.2.0",
          "state": {
            "_model_module": "@jupyter-widgets/base",
            "_model_module_version": "1.2.0",
            "_model_name": "LayoutModel",
            "_view_count": null,
            "_view_module": "@jupyter-widgets/base",
            "_view_module_version": "1.2.0",
            "_view_name": "LayoutView",
            "align_content": null,
            "align_items": null,
            "align_self": null,
            "border": null,
            "bottom": null,
            "display": null,
            "flex": null,
            "flex_flow": null,
            "grid_area": null,
            "grid_auto_columns": null,
            "grid_auto_flow": null,
            "grid_auto_rows": null,
            "grid_column": null,
            "grid_gap": null,
            "grid_row": null,
            "grid_template_areas": null,
            "grid_template_columns": null,
            "grid_template_rows": null,
            "height": null,
            "justify_content": null,
            "justify_items": null,
            "left": null,
            "margin": null,
            "max_height": null,
            "max_width": null,
            "min_height": null,
            "min_width": null,
            "object_fit": null,
            "object_position": null,
            "order": null,
            "overflow": null,
            "overflow_x": null,
            "overflow_y": null,
            "padding": null,
            "right": null,
            "top": null,
            "visibility": null,
            "width": null
          }
        },
        "0ac2ea08da344943bcb424276e90158a": {
          "model_module": "@jupyter-widgets/base",
          "model_name": "LayoutModel",
          "model_module_version": "1.2.0",
          "state": {
            "_model_module": "@jupyter-widgets/base",
            "_model_module_version": "1.2.0",
            "_model_name": "LayoutModel",
            "_view_count": null,
            "_view_module": "@jupyter-widgets/base",
            "_view_module_version": "1.2.0",
            "_view_name": "LayoutView",
            "align_content": null,
            "align_items": null,
            "align_self": null,
            "border": null,
            "bottom": null,
            "display": null,
            "flex": null,
            "flex_flow": null,
            "grid_area": null,
            "grid_auto_columns": null,
            "grid_auto_flow": null,
            "grid_auto_rows": null,
            "grid_column": null,
            "grid_gap": null,
            "grid_row": null,
            "grid_template_areas": null,
            "grid_template_columns": null,
            "grid_template_rows": null,
            "height": null,
            "justify_content": null,
            "justify_items": null,
            "left": null,
            "margin": null,
            "max_height": null,
            "max_width": null,
            "min_height": null,
            "min_width": null,
            "object_fit": null,
            "object_position": null,
            "order": null,
            "overflow": null,
            "overflow_x": null,
            "overflow_y": null,
            "padding": null,
            "right": null,
            "top": null,
            "visibility": null,
            "width": null
          }
        },
        "6337cc2e957a48c491ce56e9b132a1a8": {
          "model_module": "@jupyter-widgets/controls",
          "model_name": "DescriptionStyleModel",
          "model_module_version": "1.5.0",
          "state": {
            "_model_module": "@jupyter-widgets/controls",
            "_model_module_version": "1.5.0",
            "_model_name": "DescriptionStyleModel",
            "_view_count": null,
            "_view_module": "@jupyter-widgets/base",
            "_view_module_version": "1.2.0",
            "_view_name": "StyleView",
            "description_width": ""
          }
        },
        "ac8f67bafefe498c815b5da86de722ff": {
          "model_module": "@jupyter-widgets/base",
          "model_name": "LayoutModel",
          "model_module_version": "1.2.0",
          "state": {
            "_model_module": "@jupyter-widgets/base",
            "_model_module_version": "1.2.0",
            "_model_name": "LayoutModel",
            "_view_count": null,
            "_view_module": "@jupyter-widgets/base",
            "_view_module_version": "1.2.0",
            "_view_name": "LayoutView",
            "align_content": null,
            "align_items": null,
            "align_self": null,
            "border": null,
            "bottom": null,
            "display": null,
            "flex": null,
            "flex_flow": null,
            "grid_area": null,
            "grid_auto_columns": null,
            "grid_auto_flow": null,
            "grid_auto_rows": null,
            "grid_column": null,
            "grid_gap": null,
            "grid_row": null,
            "grid_template_areas": null,
            "grid_template_columns": null,
            "grid_template_rows": null,
            "height": null,
            "justify_content": null,
            "justify_items": null,
            "left": null,
            "margin": null,
            "max_height": null,
            "max_width": null,
            "min_height": null,
            "min_width": null,
            "object_fit": null,
            "object_position": null,
            "order": null,
            "overflow": null,
            "overflow_x": null,
            "overflow_y": null,
            "padding": null,
            "right": null,
            "top": null,
            "visibility": null,
            "width": null
          }
        },
        "8c8965d9ce2a4665a6134f258bd1c0e1": {
          "model_module": "@jupyter-widgets/controls",
          "model_name": "ProgressStyleModel",
          "model_module_version": "1.5.0",
          "state": {
            "_model_module": "@jupyter-widgets/controls",
            "_model_module_version": "1.5.0",
            "_model_name": "ProgressStyleModel",
            "_view_count": null,
            "_view_module": "@jupyter-widgets/base",
            "_view_module_version": "1.2.0",
            "_view_name": "StyleView",
            "bar_color": null,
            "description_width": ""
          }
        },
        "e4e6b936066a4f94ac46d7930d40494b": {
          "model_module": "@jupyter-widgets/base",
          "model_name": "LayoutModel",
          "model_module_version": "1.2.0",
          "state": {
            "_model_module": "@jupyter-widgets/base",
            "_model_module_version": "1.2.0",
            "_model_name": "LayoutModel",
            "_view_count": null,
            "_view_module": "@jupyter-widgets/base",
            "_view_module_version": "1.2.0",
            "_view_name": "LayoutView",
            "align_content": null,
            "align_items": null,
            "align_self": null,
            "border": null,
            "bottom": null,
            "display": null,
            "flex": null,
            "flex_flow": null,
            "grid_area": null,
            "grid_auto_columns": null,
            "grid_auto_flow": null,
            "grid_auto_rows": null,
            "grid_column": null,
            "grid_gap": null,
            "grid_row": null,
            "grid_template_areas": null,
            "grid_template_columns": null,
            "grid_template_rows": null,
            "height": null,
            "justify_content": null,
            "justify_items": null,
            "left": null,
            "margin": null,
            "max_height": null,
            "max_width": null,
            "min_height": null,
            "min_width": null,
            "object_fit": null,
            "object_position": null,
            "order": null,
            "overflow": null,
            "overflow_x": null,
            "overflow_y": null,
            "padding": null,
            "right": null,
            "top": null,
            "visibility": null,
            "width": null
          }
        },
        "632230f3984f453a981b101931d340aa": {
          "model_module": "@jupyter-widgets/controls",
          "model_name": "DescriptionStyleModel",
          "model_module_version": "1.5.0",
          "state": {
            "_model_module": "@jupyter-widgets/controls",
            "_model_module_version": "1.5.0",
            "_model_name": "DescriptionStyleModel",
            "_view_count": null,
            "_view_module": "@jupyter-widgets/base",
            "_view_module_version": "1.2.0",
            "_view_name": "StyleView",
            "description_width": ""
          }
        },
        "a923e5a4073040b5a9c011999c4a6be9": {
          "model_module": "@jupyter-widgets/controls",
          "model_name": "HBoxModel",
          "model_module_version": "1.5.0",
          "state": {
            "_dom_classes": [],
            "_model_module": "@jupyter-widgets/controls",
            "_model_module_version": "1.5.0",
            "_model_name": "HBoxModel",
            "_view_count": null,
            "_view_module": "@jupyter-widgets/controls",
            "_view_module_version": "1.5.0",
            "_view_name": "HBoxView",
            "box_style": "",
            "children": [
              "IPY_MODEL_9276f8ac371f4f6595897bbc4f6683fa",
              "IPY_MODEL_0b7de8c6ff9f422297fede705b5ddbf7",
              "IPY_MODEL_0f5a1d4e3396411e90408b919e1d1632"
            ],
            "layout": "IPY_MODEL_9a465725b7cb472eb88b9f9a53681ee2"
          }
        },
        "9276f8ac371f4f6595897bbc4f6683fa": {
          "model_module": "@jupyter-widgets/controls",
          "model_name": "HTMLModel",
          "model_module_version": "1.5.0",
          "state": {
            "_dom_classes": [],
            "_model_module": "@jupyter-widgets/controls",
            "_model_module_version": "1.5.0",
            "_model_name": "HTMLModel",
            "_view_count": null,
            "_view_module": "@jupyter-widgets/controls",
            "_view_module_version": "1.5.0",
            "_view_name": "HTMLView",
            "description": "",
            "description_tooltip": null,
            "layout": "IPY_MODEL_db8a74b30e9e42f8ac410da8cb340cee",
            "placeholder": "​",
            "style": "IPY_MODEL_88eb78be8aac47989aa3e74d0585b2af",
            "value": "Downloading tf_model.h5: 100%"
          }
        },
        "0b7de8c6ff9f422297fede705b5ddbf7": {
          "model_module": "@jupyter-widgets/controls",
          "model_name": "FloatProgressModel",
          "model_module_version": "1.5.0",
          "state": {
            "_dom_classes": [],
            "_model_module": "@jupyter-widgets/controls",
            "_model_module_version": "1.5.0",
            "_model_name": "FloatProgressModel",
            "_view_count": null,
            "_view_module": "@jupyter-widgets/controls",
            "_view_module_version": "1.5.0",
            "_view_name": "ProgressView",
            "bar_style": "success",
            "description": "",
            "description_tooltip": null,
            "layout": "IPY_MODEL_030401f242974d7db3f05628c6062d88",
            "max": 267949840,
            "min": 0,
            "orientation": "horizontal",
            "style": "IPY_MODEL_f96eb3581c184ada9227fd92cc01f11f",
            "value": 267949840
          }
        },
        "0f5a1d4e3396411e90408b919e1d1632": {
          "model_module": "@jupyter-widgets/controls",
          "model_name": "HTMLModel",
          "model_module_version": "1.5.0",
          "state": {
            "_dom_classes": [],
            "_model_module": "@jupyter-widgets/controls",
            "_model_module_version": "1.5.0",
            "_model_name": "HTMLModel",
            "_view_count": null,
            "_view_module": "@jupyter-widgets/controls",
            "_view_module_version": "1.5.0",
            "_view_name": "HTMLView",
            "description": "",
            "description_tooltip": null,
            "layout": "IPY_MODEL_64a12e1956ba497b9a55d22bce48fc99",
            "placeholder": "​",
            "style": "IPY_MODEL_093b006c685a4db9962ed92c1053e21a",
            "value": " 268M/268M [00:00&lt;00:00, 398MB/s]"
          }
        },
        "9a465725b7cb472eb88b9f9a53681ee2": {
          "model_module": "@jupyter-widgets/base",
          "model_name": "LayoutModel",
          "model_module_version": "1.2.0",
          "state": {
            "_model_module": "@jupyter-widgets/base",
            "_model_module_version": "1.2.0",
            "_model_name": "LayoutModel",
            "_view_count": null,
            "_view_module": "@jupyter-widgets/base",
            "_view_module_version": "1.2.0",
            "_view_name": "LayoutView",
            "align_content": null,
            "align_items": null,
            "align_self": null,
            "border": null,
            "bottom": null,
            "display": null,
            "flex": null,
            "flex_flow": null,
            "grid_area": null,
            "grid_auto_columns": null,
            "grid_auto_flow": null,
            "grid_auto_rows": null,
            "grid_column": null,
            "grid_gap": null,
            "grid_row": null,
            "grid_template_areas": null,
            "grid_template_columns": null,
            "grid_template_rows": null,
            "height": null,
            "justify_content": null,
            "justify_items": null,
            "left": null,
            "margin": null,
            "max_height": null,
            "max_width": null,
            "min_height": null,
            "min_width": null,
            "object_fit": null,
            "object_position": null,
            "order": null,
            "overflow": null,
            "overflow_x": null,
            "overflow_y": null,
            "padding": null,
            "right": null,
            "top": null,
            "visibility": null,
            "width": null
          }
        },
        "db8a74b30e9e42f8ac410da8cb340cee": {
          "model_module": "@jupyter-widgets/base",
          "model_name": "LayoutModel",
          "model_module_version": "1.2.0",
          "state": {
            "_model_module": "@jupyter-widgets/base",
            "_model_module_version": "1.2.0",
            "_model_name": "LayoutModel",
            "_view_count": null,
            "_view_module": "@jupyter-widgets/base",
            "_view_module_version": "1.2.0",
            "_view_name": "LayoutView",
            "align_content": null,
            "align_items": null,
            "align_self": null,
            "border": null,
            "bottom": null,
            "display": null,
            "flex": null,
            "flex_flow": null,
            "grid_area": null,
            "grid_auto_columns": null,
            "grid_auto_flow": null,
            "grid_auto_rows": null,
            "grid_column": null,
            "grid_gap": null,
            "grid_row": null,
            "grid_template_areas": null,
            "grid_template_columns": null,
            "grid_template_rows": null,
            "height": null,
            "justify_content": null,
            "justify_items": null,
            "left": null,
            "margin": null,
            "max_height": null,
            "max_width": null,
            "min_height": null,
            "min_width": null,
            "object_fit": null,
            "object_position": null,
            "order": null,
            "overflow": null,
            "overflow_x": null,
            "overflow_y": null,
            "padding": null,
            "right": null,
            "top": null,
            "visibility": null,
            "width": null
          }
        },
        "88eb78be8aac47989aa3e74d0585b2af": {
          "model_module": "@jupyter-widgets/controls",
          "model_name": "DescriptionStyleModel",
          "model_module_version": "1.5.0",
          "state": {
            "_model_module": "@jupyter-widgets/controls",
            "_model_module_version": "1.5.0",
            "_model_name": "DescriptionStyleModel",
            "_view_count": null,
            "_view_module": "@jupyter-widgets/base",
            "_view_module_version": "1.2.0",
            "_view_name": "StyleView",
            "description_width": ""
          }
        },
        "030401f242974d7db3f05628c6062d88": {
          "model_module": "@jupyter-widgets/base",
          "model_name": "LayoutModel",
          "model_module_version": "1.2.0",
          "state": {
            "_model_module": "@jupyter-widgets/base",
            "_model_module_version": "1.2.0",
            "_model_name": "LayoutModel",
            "_view_count": null,
            "_view_module": "@jupyter-widgets/base",
            "_view_module_version": "1.2.0",
            "_view_name": "LayoutView",
            "align_content": null,
            "align_items": null,
            "align_self": null,
            "border": null,
            "bottom": null,
            "display": null,
            "flex": null,
            "flex_flow": null,
            "grid_area": null,
            "grid_auto_columns": null,
            "grid_auto_flow": null,
            "grid_auto_rows": null,
            "grid_column": null,
            "grid_gap": null,
            "grid_row": null,
            "grid_template_areas": null,
            "grid_template_columns": null,
            "grid_template_rows": null,
            "height": null,
            "justify_content": null,
            "justify_items": null,
            "left": null,
            "margin": null,
            "max_height": null,
            "max_width": null,
            "min_height": null,
            "min_width": null,
            "object_fit": null,
            "object_position": null,
            "order": null,
            "overflow": null,
            "overflow_x": null,
            "overflow_y": null,
            "padding": null,
            "right": null,
            "top": null,
            "visibility": null,
            "width": null
          }
        },
        "f96eb3581c184ada9227fd92cc01f11f": {
          "model_module": "@jupyter-widgets/controls",
          "model_name": "ProgressStyleModel",
          "model_module_version": "1.5.0",
          "state": {
            "_model_module": "@jupyter-widgets/controls",
            "_model_module_version": "1.5.0",
            "_model_name": "ProgressStyleModel",
            "_view_count": null,
            "_view_module": "@jupyter-widgets/base",
            "_view_module_version": "1.2.0",
            "_view_name": "StyleView",
            "bar_color": null,
            "description_width": ""
          }
        },
        "64a12e1956ba497b9a55d22bce48fc99": {
          "model_module": "@jupyter-widgets/base",
          "model_name": "LayoutModel",
          "model_module_version": "1.2.0",
          "state": {
            "_model_module": "@jupyter-widgets/base",
            "_model_module_version": "1.2.0",
            "_model_name": "LayoutModel",
            "_view_count": null,
            "_view_module": "@jupyter-widgets/base",
            "_view_module_version": "1.2.0",
            "_view_name": "LayoutView",
            "align_content": null,
            "align_items": null,
            "align_self": null,
            "border": null,
            "bottom": null,
            "display": null,
            "flex": null,
            "flex_flow": null,
            "grid_area": null,
            "grid_auto_columns": null,
            "grid_auto_flow": null,
            "grid_auto_rows": null,
            "grid_column": null,
            "grid_gap": null,
            "grid_row": null,
            "grid_template_areas": null,
            "grid_template_columns": null,
            "grid_template_rows": null,
            "height": null,
            "justify_content": null,
            "justify_items": null,
            "left": null,
            "margin": null,
            "max_height": null,
            "max_width": null,
            "min_height": null,
            "min_width": null,
            "object_fit": null,
            "object_position": null,
            "order": null,
            "overflow": null,
            "overflow_x": null,
            "overflow_y": null,
            "padding": null,
            "right": null,
            "top": null,
            "visibility": null,
            "width": null
          }
        },
        "093b006c685a4db9962ed92c1053e21a": {
          "model_module": "@jupyter-widgets/controls",
          "model_name": "DescriptionStyleModel",
          "model_module_version": "1.5.0",
          "state": {
            "_model_module": "@jupyter-widgets/controls",
            "_model_module_version": "1.5.0",
            "_model_name": "DescriptionStyleModel",
            "_view_count": null,
            "_view_module": "@jupyter-widgets/base",
            "_view_module_version": "1.2.0",
            "_view_name": "StyleView",
            "description_width": ""
          }
        }
      }
    }
  },
  "nbformat_minor": 0,
  "nbformat": 4,
  "cells": [
    {
      "cell_type": "markdown",
      "metadata": {
        "id": "view-in-github",
        "colab_type": "text"
      },
      "source": [
        "<a href=\"https://colab.research.google.com/github/parksoy/Common_Snippets_Python/blob/master/building_an_end_to_end_nlp_application.ipynb\" target=\"_parent\"><img src=\"https://colab.research.google.com/assets/colab-badge.svg\" alt=\"Open In Colab\"/></a>"
      ]
    },
    {
      "cell_type": "markdown",
      "source": [
        "# Building an end-to-end NLP application\n",
        "from https://medium.com/mlearning-ai/building-an-end-to-end-nlp-application-an-overview-ef0221c4ab1f"
      ],
      "metadata": {
        "cell_id": "3d3442ecd4cf48ad943adef93f872132",
        "tags": [],
        "deepnote_cell_type": "markdown",
        "deepnote_cell_height": 134,
        "id": "UKeDKKkXaGSM"
      }
    },
    {
      "cell_type": "markdown",
      "source": [
        "This notebook will demonstrate the generic steps involved in solving a text classification problem. For the purpose of the demostration, we'll look at a binary classification problem (specifically sentiment analysis) and go through all the stages of typical ML lifecycle.\n",
        "\n",
        "- **Problem:** Sentiment analysis (supervised)\n",
        "- **Dataset:** Amazon product reviews\n",
        "- **Framework for model building:** TensorFlow, HuggingFace Transformers\n",
        "- **Demo:** Gradio\n"
      ],
      "metadata": {
        "cell_id": "0f67c878ddbe434fb61c60a26140c1bf",
        "tags": [],
        "deepnote_cell_type": "markdown",
        "deepnote_cell_height": 249.125,
        "id": "k15NDhbKaGSU"
      }
    },
    {
      "cell_type": "code",
      "source": [
        "# Set the session to use GPU\n",
        "import tensorflow as tf\n",
        "import os\n",
        "num_gpus_available = len(tf.config.experimental.list_physical_devices('GPU'))\n",
        "print(\"Num GPUs Available: \", num_gpus_available)\n",
        "assert num_gpus_available > 0\n",
        "\n",
        "sess = tf.compat.v1.Session(config=tf.compat.v1.ConfigProto(log_device_placement=True))\n",
        "os.environ[\"CUDA_VISIBLE_DEVICES\"]='0'"
      ],
      "metadata": {
        "execution": {
          "iopub.status.busy": "2022-06-03T14:39:47.440668Z",
          "iopub.execute_input": "2022-06-03T14:39:47.441104Z",
          "iopub.status.idle": "2022-06-03T14:39:53.564271Z",
          "shell.execute_reply.started": "2022-06-03T14:39:47.441018Z",
          "shell.execute_reply": "2022-06-03T14:39:53.563477Z"
        },
        "trusted": true,
        "colab": {
          "base_uri": "https://localhost:8080/"
        },
        "id": "VL8QJXQYaGSX",
        "outputId": "d0fc88ed-4048-4a7f-a7ea-2aceca7a6cf6"
      },
      "execution_count": 28,
      "outputs": [
        {
          "output_type": "stream",
          "name": "stdout",
          "text": [
            "Num GPUs Available:  1\n",
            "Device mapping:\n",
            "/job:localhost/replica:0/task:0/device:GPU:0 -> device: 0, name: Tesla T4, pci bus id: 0000:00:04.0, compute capability: 7.5\n",
            "\n"
          ]
        }
      ]
    },
    {
      "cell_type": "code",
      "source": [
        "# Install necessary libraries\n",
        "!pip install gradio\n",
        "!pip install transformers\n",
        "!pip install tensorflow_datasets"
      ],
      "metadata": {
        "cell_id": "766b8c1e674b4a65b02961c78f00976c",
        "tags": [],
        "deepnote_to_be_reexecuted": false,
        "source_hash": "7528b55a",
        "execution_start": 1654260231305,
        "execution_millis": 17068,
        "is_output_hidden": true,
        "deepnote_cell_type": "code",
        "deepnote_cell_height": 165.796875,
        "execution": {
          "iopub.status.busy": "2022-06-03T14:39:58.719965Z",
          "iopub.execute_input": "2022-06-03T14:39:58.720585Z",
          "iopub.status.idle": "2022-06-03T14:40:42.173593Z",
          "shell.execute_reply.started": "2022-06-03T14:39:58.720551Z",
          "shell.execute_reply": "2022-06-03T14:40:42.170713Z"
        },
        "trusted": true,
        "colab": {
          "base_uri": "https://localhost:8080/"
        },
        "id": "f_RZYLxEaGSa",
        "outputId": "f139118c-6a01-4121-fa8f-18c5ff90f6b4"
      },
      "execution_count": 29,
      "outputs": [
        {
          "output_type": "stream",
          "name": "stdout",
          "text": [
            "Looking in indexes: https://pypi.org/simple, https://us-python.pkg.dev/colab-wheels/public/simple/\n",
            "Requirement already satisfied: gradio in /usr/local/lib/python3.10/dist-packages (3.30.0)\n",
            "Requirement already satisfied: aiofiles in /usr/local/lib/python3.10/dist-packages (from gradio) (23.1.0)\n",
            "Requirement already satisfied: aiohttp in /usr/local/lib/python3.10/dist-packages (from gradio) (3.8.4)\n",
            "Requirement already satisfied: altair>=4.2.0 in /usr/local/lib/python3.10/dist-packages (from gradio) (4.2.2)\n",
            "Requirement already satisfied: fastapi in /usr/local/lib/python3.10/dist-packages (from gradio) (0.95.1)\n",
            "Requirement already satisfied: ffmpy in /usr/local/lib/python3.10/dist-packages (from gradio) (0.3.0)\n",
            "Requirement already satisfied: gradio-client>=0.2.4 in /usr/local/lib/python3.10/dist-packages (from gradio) (0.2.4)\n",
            "Requirement already satisfied: httpx in /usr/local/lib/python3.10/dist-packages (from gradio) (0.24.0)\n",
            "Requirement already satisfied: huggingface-hub>=0.13.0 in /usr/local/lib/python3.10/dist-packages (from gradio) (0.14.1)\n",
            "Requirement already satisfied: jinja2 in /usr/local/lib/python3.10/dist-packages (from gradio) (3.1.2)\n",
            "Requirement already satisfied: markdown-it-py[linkify]>=2.0.0 in /usr/local/lib/python3.10/dist-packages (from gradio) (2.2.0)\n",
            "Requirement already satisfied: markupsafe in /usr/local/lib/python3.10/dist-packages (from gradio) (2.1.2)\n",
            "Requirement already satisfied: matplotlib in /usr/local/lib/python3.10/dist-packages (from gradio) (3.7.1)\n",
            "Requirement already satisfied: mdit-py-plugins<=0.3.3 in /usr/local/lib/python3.10/dist-packages (from gradio) (0.3.3)\n",
            "Requirement already satisfied: numpy in /usr/local/lib/python3.10/dist-packages (from gradio) (1.22.4)\n",
            "Requirement already satisfied: orjson in /usr/local/lib/python3.10/dist-packages (from gradio) (3.8.12)\n",
            "Requirement already satisfied: pandas in /usr/local/lib/python3.10/dist-packages (from gradio) (1.5.3)\n",
            "Requirement already satisfied: pillow in /usr/local/lib/python3.10/dist-packages (from gradio) (8.4.0)\n",
            "Requirement already satisfied: pydantic in /usr/local/lib/python3.10/dist-packages (from gradio) (1.10.7)\n",
            "Requirement already satisfied: pydub in /usr/local/lib/python3.10/dist-packages (from gradio) (0.25.1)\n",
            "Requirement already satisfied: pygments>=2.12.0 in /usr/local/lib/python3.10/dist-packages (from gradio) (2.14.0)\n",
            "Requirement already satisfied: python-multipart in /usr/local/lib/python3.10/dist-packages (from gradio) (0.0.6)\n",
            "Requirement already satisfied: pyyaml in /usr/local/lib/python3.10/dist-packages (from gradio) (6.0)\n",
            "Requirement already satisfied: requests in /usr/local/lib/python3.10/dist-packages (from gradio) (2.27.1)\n",
            "Requirement already satisfied: semantic-version in /usr/local/lib/python3.10/dist-packages (from gradio) (2.10.0)\n",
            "Requirement already satisfied: typing-extensions in /usr/local/lib/python3.10/dist-packages (from gradio) (4.5.0)\n",
            "Requirement already satisfied: uvicorn>=0.14.0 in /usr/local/lib/python3.10/dist-packages (from gradio) (0.22.0)\n",
            "Requirement already satisfied: websockets>=10.0 in /usr/local/lib/python3.10/dist-packages (from gradio) (11.0.3)\n",
            "Requirement already satisfied: entrypoints in /usr/local/lib/python3.10/dist-packages (from altair>=4.2.0->gradio) (0.4)\n",
            "Requirement already satisfied: jsonschema>=3.0 in /usr/local/lib/python3.10/dist-packages (from altair>=4.2.0->gradio) (4.3.3)\n",
            "Requirement already satisfied: toolz in /usr/local/lib/python3.10/dist-packages (from altair>=4.2.0->gradio) (0.12.0)\n",
            "Requirement already satisfied: fsspec in /usr/local/lib/python3.10/dist-packages (from gradio-client>=0.2.4->gradio) (2023.4.0)\n",
            "Requirement already satisfied: packaging in /usr/local/lib/python3.10/dist-packages (from gradio-client>=0.2.4->gradio) (23.1)\n",
            "Requirement already satisfied: filelock in /usr/local/lib/python3.10/dist-packages (from huggingface-hub>=0.13.0->gradio) (3.12.0)\n",
            "Requirement already satisfied: tqdm>=4.42.1 in /usr/local/lib/python3.10/dist-packages (from huggingface-hub>=0.13.0->gradio) (4.65.0)\n",
            "Requirement already satisfied: mdurl~=0.1 in /usr/local/lib/python3.10/dist-packages (from markdown-it-py[linkify]>=2.0.0->gradio) (0.1.2)\n",
            "Requirement already satisfied: linkify-it-py<3,>=1 in /usr/local/lib/python3.10/dist-packages (from markdown-it-py[linkify]>=2.0.0->gradio) (2.0.2)\n",
            "Requirement already satisfied: python-dateutil>=2.8.1 in /usr/local/lib/python3.10/dist-packages (from pandas->gradio) (2.8.2)\n",
            "Requirement already satisfied: pytz>=2020.1 in /usr/local/lib/python3.10/dist-packages (from pandas->gradio) (2022.7.1)\n",
            "Requirement already satisfied: click>=7.0 in /usr/local/lib/python3.10/dist-packages (from uvicorn>=0.14.0->gradio) (8.1.3)\n",
            "Requirement already satisfied: h11>=0.8 in /usr/local/lib/python3.10/dist-packages (from uvicorn>=0.14.0->gradio) (0.14.0)\n",
            "Requirement already satisfied: attrs>=17.3.0 in /usr/local/lib/python3.10/dist-packages (from aiohttp->gradio) (23.1.0)\n",
            "Requirement already satisfied: charset-normalizer<4.0,>=2.0 in /usr/local/lib/python3.10/dist-packages (from aiohttp->gradio) (2.0.12)\n",
            "Requirement already satisfied: multidict<7.0,>=4.5 in /usr/local/lib/python3.10/dist-packages (from aiohttp->gradio) (6.0.4)\n",
            "Requirement already satisfied: async-timeout<5.0,>=4.0.0a3 in /usr/local/lib/python3.10/dist-packages (from aiohttp->gradio) (4.0.2)\n",
            "Requirement already satisfied: yarl<2.0,>=1.0 in /usr/local/lib/python3.10/dist-packages (from aiohttp->gradio) (1.9.2)\n",
            "Requirement already satisfied: frozenlist>=1.1.1 in /usr/local/lib/python3.10/dist-packages (from aiohttp->gradio) (1.3.3)\n",
            "Requirement already satisfied: aiosignal>=1.1.2 in /usr/local/lib/python3.10/dist-packages (from aiohttp->gradio) (1.3.1)\n",
            "Requirement already satisfied: starlette<0.27.0,>=0.26.1 in /usr/local/lib/python3.10/dist-packages (from fastapi->gradio) (0.26.1)\n",
            "Requirement already satisfied: certifi in /usr/local/lib/python3.10/dist-packages (from httpx->gradio) (2022.12.7)\n",
            "Requirement already satisfied: httpcore<0.18.0,>=0.15.0 in /usr/local/lib/python3.10/dist-packages (from httpx->gradio) (0.17.0)\n",
            "Requirement already satisfied: idna in /usr/local/lib/python3.10/dist-packages (from httpx->gradio) (3.4)\n",
            "Requirement already satisfied: sniffio in /usr/local/lib/python3.10/dist-packages (from httpx->gradio) (1.3.0)\n",
            "Requirement already satisfied: contourpy>=1.0.1 in /usr/local/lib/python3.10/dist-packages (from matplotlib->gradio) (1.0.7)\n",
            "Requirement already satisfied: cycler>=0.10 in /usr/local/lib/python3.10/dist-packages (from matplotlib->gradio) (0.11.0)\n",
            "Requirement already satisfied: fonttools>=4.22.0 in /usr/local/lib/python3.10/dist-packages (from matplotlib->gradio) (4.39.3)\n",
            "Requirement already satisfied: kiwisolver>=1.0.1 in /usr/local/lib/python3.10/dist-packages (from matplotlib->gradio) (1.4.4)\n",
            "Requirement already satisfied: pyparsing>=2.3.1 in /usr/local/lib/python3.10/dist-packages (from matplotlib->gradio) (3.0.9)\n",
            "Requirement already satisfied: urllib3<1.27,>=1.21.1 in /usr/local/lib/python3.10/dist-packages (from requests->gradio) (1.26.15)\n",
            "Requirement already satisfied: anyio<5.0,>=3.0 in /usr/local/lib/python3.10/dist-packages (from httpcore<0.18.0,>=0.15.0->httpx->gradio) (3.6.2)\n",
            "Requirement already satisfied: pyrsistent!=0.17.0,!=0.17.1,!=0.17.2,>=0.14.0 in /usr/local/lib/python3.10/dist-packages (from jsonschema>=3.0->altair>=4.2.0->gradio) (0.19.3)\n",
            "Requirement already satisfied: uc-micro-py in /usr/local/lib/python3.10/dist-packages (from linkify-it-py<3,>=1->markdown-it-py[linkify]>=2.0.0->gradio) (1.0.2)\n",
            "Requirement already satisfied: six>=1.5 in /usr/local/lib/python3.10/dist-packages (from python-dateutil>=2.8.1->pandas->gradio) (1.16.0)\n",
            "Looking in indexes: https://pypi.org/simple, https://us-python.pkg.dev/colab-wheels/public/simple/\n",
            "Requirement already satisfied: transformers in /usr/local/lib/python3.10/dist-packages (4.29.1)\n",
            "Requirement already satisfied: filelock in /usr/local/lib/python3.10/dist-packages (from transformers) (3.12.0)\n",
            "Requirement already satisfied: huggingface-hub<1.0,>=0.14.1 in /usr/local/lib/python3.10/dist-packages (from transformers) (0.14.1)\n",
            "Requirement already satisfied: numpy>=1.17 in /usr/local/lib/python3.10/dist-packages (from transformers) (1.22.4)\n",
            "Requirement already satisfied: packaging>=20.0 in /usr/local/lib/python3.10/dist-packages (from transformers) (23.1)\n",
            "Requirement already satisfied: pyyaml>=5.1 in /usr/local/lib/python3.10/dist-packages (from transformers) (6.0)\n",
            "Requirement already satisfied: regex!=2019.12.17 in /usr/local/lib/python3.10/dist-packages (from transformers) (2022.10.31)\n",
            "Requirement already satisfied: requests in /usr/local/lib/python3.10/dist-packages (from transformers) (2.27.1)\n",
            "Requirement already satisfied: tokenizers!=0.11.3,<0.14,>=0.11.1 in /usr/local/lib/python3.10/dist-packages (from transformers) (0.13.3)\n",
            "Requirement already satisfied: tqdm>=4.27 in /usr/local/lib/python3.10/dist-packages (from transformers) (4.65.0)\n",
            "Requirement already satisfied: fsspec in /usr/local/lib/python3.10/dist-packages (from huggingface-hub<1.0,>=0.14.1->transformers) (2023.4.0)\n",
            "Requirement already satisfied: typing-extensions>=3.7.4.3 in /usr/local/lib/python3.10/dist-packages (from huggingface-hub<1.0,>=0.14.1->transformers) (4.5.0)\n",
            "Requirement already satisfied: urllib3<1.27,>=1.21.1 in /usr/local/lib/python3.10/dist-packages (from requests->transformers) (1.26.15)\n",
            "Requirement already satisfied: certifi>=2017.4.17 in /usr/local/lib/python3.10/dist-packages (from requests->transformers) (2022.12.7)\n",
            "Requirement already satisfied: charset-normalizer~=2.0.0 in /usr/local/lib/python3.10/dist-packages (from requests->transformers) (2.0.12)\n",
            "Requirement already satisfied: idna<4,>=2.5 in /usr/local/lib/python3.10/dist-packages (from requests->transformers) (3.4)\n",
            "Looking in indexes: https://pypi.org/simple, https://us-python.pkg.dev/colab-wheels/public/simple/\n",
            "Requirement already satisfied: tensorflow_datasets in /usr/local/lib/python3.10/dist-packages (4.9.2)\n",
            "Requirement already satisfied: absl-py in /usr/local/lib/python3.10/dist-packages (from tensorflow_datasets) (1.4.0)\n",
            "Requirement already satisfied: array-record in /usr/local/lib/python3.10/dist-packages (from tensorflow_datasets) (0.2.0)\n",
            "Requirement already satisfied: click in /usr/local/lib/python3.10/dist-packages (from tensorflow_datasets) (8.1.3)\n",
            "Requirement already satisfied: dm-tree in /usr/local/lib/python3.10/dist-packages (from tensorflow_datasets) (0.1.8)\n",
            "Requirement already satisfied: etils[enp,epath]>=0.9.0 in /usr/local/lib/python3.10/dist-packages (from tensorflow_datasets) (1.2.0)\n",
            "Requirement already satisfied: numpy in /usr/local/lib/python3.10/dist-packages (from tensorflow_datasets) (1.22.4)\n",
            "Requirement already satisfied: promise in /usr/local/lib/python3.10/dist-packages (from tensorflow_datasets) (2.3)\n",
            "Requirement already satisfied: protobuf>=3.20 in /usr/local/lib/python3.10/dist-packages (from tensorflow_datasets) (3.20.3)\n",
            "Requirement already satisfied: psutil in /usr/local/lib/python3.10/dist-packages (from tensorflow_datasets) (5.9.5)\n",
            "Requirement already satisfied: requests>=2.19.0 in /usr/local/lib/python3.10/dist-packages (from tensorflow_datasets) (2.27.1)\n",
            "Requirement already satisfied: tensorflow-metadata in /usr/local/lib/python3.10/dist-packages (from tensorflow_datasets) (1.13.1)\n",
            "Requirement already satisfied: termcolor in /usr/local/lib/python3.10/dist-packages (from tensorflow_datasets) (2.3.0)\n",
            "Requirement already satisfied: toml in /usr/local/lib/python3.10/dist-packages (from tensorflow_datasets) (0.10.2)\n",
            "Requirement already satisfied: tqdm in /usr/local/lib/python3.10/dist-packages (from tensorflow_datasets) (4.65.0)\n",
            "Requirement already satisfied: wrapt in /usr/local/lib/python3.10/dist-packages (from tensorflow_datasets) (1.14.1)\n",
            "Requirement already satisfied: importlib_resources in /usr/local/lib/python3.10/dist-packages (from etils[enp,epath]>=0.9.0->tensorflow_datasets) (5.12.0)\n",
            "Requirement already satisfied: typing_extensions in /usr/local/lib/python3.10/dist-packages (from etils[enp,epath]>=0.9.0->tensorflow_datasets) (4.5.0)\n",
            "Requirement already satisfied: zipp in /usr/local/lib/python3.10/dist-packages (from etils[enp,epath]>=0.9.0->tensorflow_datasets) (3.15.0)\n",
            "Requirement already satisfied: urllib3<1.27,>=1.21.1 in /usr/local/lib/python3.10/dist-packages (from requests>=2.19.0->tensorflow_datasets) (1.26.15)\n",
            "Requirement already satisfied: certifi>=2017.4.17 in /usr/local/lib/python3.10/dist-packages (from requests>=2.19.0->tensorflow_datasets) (2022.12.7)\n",
            "Requirement already satisfied: charset-normalizer~=2.0.0 in /usr/local/lib/python3.10/dist-packages (from requests>=2.19.0->tensorflow_datasets) (2.0.12)\n",
            "Requirement already satisfied: idna<4,>=2.5 in /usr/local/lib/python3.10/dist-packages (from requests>=2.19.0->tensorflow_datasets) (3.4)\n",
            "Requirement already satisfied: six in /usr/local/lib/python3.10/dist-packages (from promise->tensorflow_datasets) (1.16.0)\n",
            "Requirement already satisfied: googleapis-common-protos<2,>=1.52.0 in /usr/local/lib/python3.10/dist-packages (from tensorflow-metadata->tensorflow_datasets) (1.59.0)\n"
          ]
        }
      ]
    },
    {
      "cell_type": "markdown",
      "source": [
        "## ML Workflow\n",
        "\n",
        "The following are the stages involved in building any typical ML solution.\n",
        "\n",
        "- **Stage 1:** Gather data\n",
        "- **Stage 2:** Explore the data\n",
        "    - **Stage 2.5:** Choose a model\n",
        "- **Stage 3:** Prepare the data\n",
        "- **Stage 4:** Build, train and evaluate the model\n",
        "- **Stage 5:** Refine the model\n",
        "- **Stage 6:** Deploy the model"
      ],
      "metadata": {
        "cell_id": "8229b0b0e6644680a8662dc6e83d4e7b",
        "tags": [],
        "deepnote_cell_type": "markdown",
        "deepnote_cell_height": 322.125,
        "id": "tHgwxfRgaGSb"
      }
    },
    {
      "cell_type": "markdown",
      "source": [
        "### Stage 1: Gather data\n",
        "\n",
        "This is one of the most important step in solving any supervised ML problem. Remember, the model is as good as your data. For the problem you're trying to solve, sometimes, the data might be available but in most of the real-world scenarios, data will not be readily available. In such scenarios, here are some of the things to keep in mind while collecting data,\n",
        "\n",
        "- Check if there is a public API available to get the data. Understand the limitations, pricing, number of tries etc. of the API.\n",
        "- More the data, the better the model will be.\n",
        "- Make sure you have enough samples for each of the target classes. \n",
        "- The samples should adequately cover the space of possible inputs to your problem.\n"
      ],
      "metadata": {
        "cell_id": "257e6c5f9a2e4dc990258edcb4ef1bfa",
        "tags": [],
        "deepnote_cell_type": "markdown",
        "deepnote_cell_height": 316.515625,
        "id": "TM0dUNPDaGSc"
      }
    },
    {
      "cell_type": "code",
      "source": [
        "import pandas as pd\n",
        "import numpy as np\n",
        "import tensorflow_datasets as tfds\n",
        "import matplotlib.pyplot as plt"
      ],
      "metadata": {
        "cell_id": "cb92d7829eac4a1bb84cf874741b572d",
        "tags": [],
        "deepnote_to_be_reexecuted": false,
        "source_hash": "ac5c06bc",
        "execution_start": 1654260247861,
        "execution_millis": 874,
        "is_output_hidden": true,
        "deepnote_cell_type": "code",
        "deepnote_cell_height": 183.796875,
        "execution": {
          "iopub.status.busy": "2022-06-03T14:40:42.176221Z",
          "iopub.execute_input": "2022-06-03T14:40:42.177273Z",
          "iopub.status.idle": "2022-06-03T14:40:43.417817Z",
          "shell.execute_reply.started": "2022-06-03T14:40:42.177230Z",
          "shell.execute_reply": "2022-06-03T14:40:43.417005Z"
        },
        "trusted": true,
        "id": "kUkZthhQaGSd"
      },
      "execution_count": 30,
      "outputs": []
    },
    {
      "cell_type": "code",
      "source": [
        "# Load the tensorflow dataset\n",
        "dataset = tfds.load('amazon_us_reviews/Mobile_Electronics_v1_00', split='train', shuffle_files=True)"
      ],
      "metadata": {
        "cell_id": "73d77f3b3ad94ee3bc398b59fc0773aa",
        "tags": [],
        "deepnote_to_be_reexecuted": true,
        "source_hash": "bdf781a3",
        "execution_start": 1654259616988,
        "execution_millis": 346,
        "is_output_hidden": true,
        "deepnote_cell_type": "code",
        "deepnote_cell_height": 129.796875,
        "execution": {
          "iopub.status.busy": "2022-06-03T14:40:43.419157Z",
          "iopub.execute_input": "2022-06-03T14:40:43.419540Z",
          "iopub.status.idle": "2022-06-03T14:42:38.964641Z",
          "shell.execute_reply.started": "2022-06-03T14:40:43.419504Z",
          "shell.execute_reply": "2022-06-03T14:42:38.963825Z"
        },
        "trusted": true,
        "id": "KG31PYqSaGSg"
      },
      "execution_count": 31,
      "outputs": []
    },
    {
      "cell_type": "markdown",
      "source": [
        "### Stage 2: Explore the data\n",
        "\n",
        "Before trying to build a model, it is imperative to understand the data at hand. Understanding the charateristics of the data will not only help in picking the right modeling technique for the problem we're trying to solve but also helps in building better models with good quality data. \n",
        "\n",
        "Always inspect some randon samples of data and get some key metrics like,\n",
        "\n",
        "- Total number of samples available\n",
        "- Number of classes/targets\n",
        "- Total samples available per class\n",
        "- Number of words per sample\n",
        "- Frequency distribution of words\n",
        "- Distribution od sample length"
      ],
      "metadata": {
        "cell_id": "bb4f164da4574c86b9749ca9b6aa6e14",
        "tags": [],
        "deepnote_cell_type": "markdown",
        "deepnote_cell_height": 358.90625,
        "id": "1Z9SXgrFaGSh"
      }
    },
    {
      "cell_type": "code",
      "source": [
        "# Convert the dataset to pandas dataframe\n",
        "dataset = tfds.as_dataframe(dataset)\n",
        "dataset.head()"
      ],
      "metadata": {
        "cell_id": "c39f9f1658b2421cb9e2b5586b3e5c36",
        "tags": [],
        "deepnote_to_be_reexecuted": true,
        "source_hash": "bca59b0a",
        "execution_start": 1654259617342,
        "execution_millis": 83513,
        "deepnote_cell_type": "code",
        "deepnote_cell_height": 466,
        "execution": {
          "iopub.status.busy": "2022-06-03T14:42:38.966533Z",
          "iopub.execute_input": "2022-06-03T14:42:38.966935Z",
          "iopub.status.idle": "2022-06-03T14:43:37.902232Z",
          "shell.execute_reply.started": "2022-06-03T14:42:38.966897Z",
          "shell.execute_reply": "2022-06-03T14:43:37.901334Z"
        },
        "trusted": true,
        "colab": {
          "base_uri": "https://localhost:8080/",
          "height": 443
        },
        "id": "F8KNz2lBaGSj",
        "outputId": "a5d1315c-3b1c-487c-9927-ef0591a051b3"
      },
      "execution_count": 32,
      "outputs": [
        {
          "output_type": "execute_result",
          "data": {
            "text/plain": [
              "  data/customer_id  data/helpful_votes data/marketplace  \\\n",
              "0      b'20980074'                   0            b'US'   \n",
              "1        b'779273'                   0            b'US'   \n",
              "2      b'15410531'                   0            b'US'   \n",
              "3      b'27389005'                   0            b'US'   \n",
              "4       b'2663569'                   0            b'US'   \n",
              "\n",
              "   data/product_category data/product_id data/product_parent  \\\n",
              "0  b'Mobile_Electronics'   b'B00D1847NE'        b'274617424'   \n",
              "1  b'Mobile_Electronics'   b'B00KMO6DYG'        b'397452138'   \n",
              "2  b'Mobile_Electronics'   b'B000GWLL0K'        b'948304826'   \n",
              "3  b'Mobile_Electronics'   b'B008L3JE6Y'        b'466340015'   \n",
              "4  b'Mobile_Electronics'   b'B00GHZS4SC'        b'350592810'   \n",
              "\n",
              "                                  data/product_title  \\\n",
              "0  b'Teenage Mutant Ninja Turtles Boombox CD Play...   \n",
              "1  b'4 Gauge Amp Kit Amplifier Install Wiring Com...   \n",
              "2  b'Travel Wall Charger fits Creative Zen Vision...   \n",
              "3  b'High Grade Robust 360\\xc2\\xb0 Adjustable Car...   \n",
              "4  b'HDE Multifunctional Bluetooth FM Audio Car K...   \n",
              "\n",
              "                                    data/review_body data/review_date  \\\n",
              "0                                   b'Does not work'    b'2015-01-09'   \n",
              "1  b'This is a great wiring kit i used it to set ...    b'2015-08-06'   \n",
              "2  b'It works great so much faster than USB charg...    b'2007-03-15'   \n",
              "3  b'This product was purchased to hold a monitor...    b'2013-07-30'   \n",
              "4  b\"it works but it has really bad sound quality...    b'2014-12-31'   \n",
              "\n",
              "                       data/review_headline     data/review_id  \\\n",
              "0                               b'One Star'  b'R1OVS0D6SEXPW7'   \n",
              "1                              b'Great kit'   b'R9VSD0ET8FERB'   \n",
              "2  b'A/C Charger for Creative Zen Vision M'  b'R3ISXCZHWLJLBH'   \n",
              "3                           b'camera stand'  b'R1TWVUDOFJSQAW'   \n",
              "4                      b'bad sound quality'  b'R2PEOEUR1LP0GH'   \n",
              "\n",
              "   data/star_rating  data/total_votes  data/verified_purchase  data/vine  \n",
              "0                 1                 0                       0          1  \n",
              "1                 4                 0                       0          1  \n",
              "2                 5                 0                       0          1  \n",
              "3                 5                 0                       0          1  \n",
              "4                 3                 0                       0          1  "
            ],
            "text/html": [
              "\n",
              "  <div id=\"df-0ef8a993-fea0-4456-a5d6-5c92d71aa5c4\">\n",
              "    <div class=\"colab-df-container\">\n",
              "      <div>\n",
              "<style scoped>\n",
              "    .dataframe tbody tr th:only-of-type {\n",
              "        vertical-align: middle;\n",
              "    }\n",
              "\n",
              "    .dataframe tbody tr th {\n",
              "        vertical-align: top;\n",
              "    }\n",
              "\n",
              "    .dataframe thead th {\n",
              "        text-align: right;\n",
              "    }\n",
              "</style>\n",
              "<table border=\"1\" class=\"dataframe\">\n",
              "  <thead>\n",
              "    <tr style=\"text-align: right;\">\n",
              "      <th></th>\n",
              "      <th>data/customer_id</th>\n",
              "      <th>data/helpful_votes</th>\n",
              "      <th>data/marketplace</th>\n",
              "      <th>data/product_category</th>\n",
              "      <th>data/product_id</th>\n",
              "      <th>data/product_parent</th>\n",
              "      <th>data/product_title</th>\n",
              "      <th>data/review_body</th>\n",
              "      <th>data/review_date</th>\n",
              "      <th>data/review_headline</th>\n",
              "      <th>data/review_id</th>\n",
              "      <th>data/star_rating</th>\n",
              "      <th>data/total_votes</th>\n",
              "      <th>data/verified_purchase</th>\n",
              "      <th>data/vine</th>\n",
              "    </tr>\n",
              "  </thead>\n",
              "  <tbody>\n",
              "    <tr>\n",
              "      <th>0</th>\n",
              "      <td>b'20980074'</td>\n",
              "      <td>0</td>\n",
              "      <td>b'US'</td>\n",
              "      <td>b'Mobile_Electronics'</td>\n",
              "      <td>b'B00D1847NE'</td>\n",
              "      <td>b'274617424'</td>\n",
              "      <td>b'Teenage Mutant Ninja Turtles Boombox CD Play...</td>\n",
              "      <td>b'Does not work'</td>\n",
              "      <td>b'2015-01-09'</td>\n",
              "      <td>b'One Star'</td>\n",
              "      <td>b'R1OVS0D6SEXPW7'</td>\n",
              "      <td>1</td>\n",
              "      <td>0</td>\n",
              "      <td>0</td>\n",
              "      <td>1</td>\n",
              "    </tr>\n",
              "    <tr>\n",
              "      <th>1</th>\n",
              "      <td>b'779273'</td>\n",
              "      <td>0</td>\n",
              "      <td>b'US'</td>\n",
              "      <td>b'Mobile_Electronics'</td>\n",
              "      <td>b'B00KMO6DYG'</td>\n",
              "      <td>b'397452138'</td>\n",
              "      <td>b'4 Gauge Amp Kit Amplifier Install Wiring Com...</td>\n",
              "      <td>b'This is a great wiring kit i used it to set ...</td>\n",
              "      <td>b'2015-08-06'</td>\n",
              "      <td>b'Great kit'</td>\n",
              "      <td>b'R9VSD0ET8FERB'</td>\n",
              "      <td>4</td>\n",
              "      <td>0</td>\n",
              "      <td>0</td>\n",
              "      <td>1</td>\n",
              "    </tr>\n",
              "    <tr>\n",
              "      <th>2</th>\n",
              "      <td>b'15410531'</td>\n",
              "      <td>0</td>\n",
              "      <td>b'US'</td>\n",
              "      <td>b'Mobile_Electronics'</td>\n",
              "      <td>b'B000GWLL0K'</td>\n",
              "      <td>b'948304826'</td>\n",
              "      <td>b'Travel Wall Charger fits Creative Zen Vision...</td>\n",
              "      <td>b'It works great so much faster than USB charg...</td>\n",
              "      <td>b'2007-03-15'</td>\n",
              "      <td>b'A/C Charger for Creative Zen Vision M'</td>\n",
              "      <td>b'R3ISXCZHWLJLBH'</td>\n",
              "      <td>5</td>\n",
              "      <td>0</td>\n",
              "      <td>0</td>\n",
              "      <td>1</td>\n",
              "    </tr>\n",
              "    <tr>\n",
              "      <th>3</th>\n",
              "      <td>b'27389005'</td>\n",
              "      <td>0</td>\n",
              "      <td>b'US'</td>\n",
              "      <td>b'Mobile_Electronics'</td>\n",
              "      <td>b'B008L3JE6Y'</td>\n",
              "      <td>b'466340015'</td>\n",
              "      <td>b'High Grade Robust 360\\xc2\\xb0 Adjustable Car...</td>\n",
              "      <td>b'This product was purchased to hold a monitor...</td>\n",
              "      <td>b'2013-07-30'</td>\n",
              "      <td>b'camera stand'</td>\n",
              "      <td>b'R1TWVUDOFJSQAW'</td>\n",
              "      <td>5</td>\n",
              "      <td>0</td>\n",
              "      <td>0</td>\n",
              "      <td>1</td>\n",
              "    </tr>\n",
              "    <tr>\n",
              "      <th>4</th>\n",
              "      <td>b'2663569'</td>\n",
              "      <td>0</td>\n",
              "      <td>b'US'</td>\n",
              "      <td>b'Mobile_Electronics'</td>\n",
              "      <td>b'B00GHZS4SC'</td>\n",
              "      <td>b'350592810'</td>\n",
              "      <td>b'HDE Multifunctional Bluetooth FM Audio Car K...</td>\n",
              "      <td>b\"it works but it has really bad sound quality...</td>\n",
              "      <td>b'2014-12-31'</td>\n",
              "      <td>b'bad sound quality'</td>\n",
              "      <td>b'R2PEOEUR1LP0GH'</td>\n",
              "      <td>3</td>\n",
              "      <td>0</td>\n",
              "      <td>0</td>\n",
              "      <td>1</td>\n",
              "    </tr>\n",
              "  </tbody>\n",
              "</table>\n",
              "</div>\n",
              "      <button class=\"colab-df-convert\" onclick=\"convertToInteractive('df-0ef8a993-fea0-4456-a5d6-5c92d71aa5c4')\"\n",
              "              title=\"Convert this dataframe to an interactive table.\"\n",
              "              style=\"display:none;\">\n",
              "        \n",
              "  <svg xmlns=\"http://www.w3.org/2000/svg\" height=\"24px\"viewBox=\"0 0 24 24\"\n",
              "       width=\"24px\">\n",
              "    <path d=\"M0 0h24v24H0V0z\" fill=\"none\"/>\n",
              "    <path d=\"M18.56 5.44l.94 2.06.94-2.06 2.06-.94-2.06-.94-.94-2.06-.94 2.06-2.06.94zm-11 1L8.5 8.5l.94-2.06 2.06-.94-2.06-.94L8.5 2.5l-.94 2.06-2.06.94zm10 10l.94 2.06.94-2.06 2.06-.94-2.06-.94-.94-2.06-.94 2.06-2.06.94z\"/><path d=\"M17.41 7.96l-1.37-1.37c-.4-.4-.92-.59-1.43-.59-.52 0-1.04.2-1.43.59L10.3 9.45l-7.72 7.72c-.78.78-.78 2.05 0 2.83L4 21.41c.39.39.9.59 1.41.59.51 0 1.02-.2 1.41-.59l7.78-7.78 2.81-2.81c.8-.78.8-2.07 0-2.86zM5.41 20L4 18.59l7.72-7.72 1.47 1.35L5.41 20z\"/>\n",
              "  </svg>\n",
              "      </button>\n",
              "      \n",
              "  <style>\n",
              "    .colab-df-container {\n",
              "      display:flex;\n",
              "      flex-wrap:wrap;\n",
              "      gap: 12px;\n",
              "    }\n",
              "\n",
              "    .colab-df-convert {\n",
              "      background-color: #E8F0FE;\n",
              "      border: none;\n",
              "      border-radius: 50%;\n",
              "      cursor: pointer;\n",
              "      display: none;\n",
              "      fill: #1967D2;\n",
              "      height: 32px;\n",
              "      padding: 0 0 0 0;\n",
              "      width: 32px;\n",
              "    }\n",
              "\n",
              "    .colab-df-convert:hover {\n",
              "      background-color: #E2EBFA;\n",
              "      box-shadow: 0px 1px 2px rgba(60, 64, 67, 0.3), 0px 1px 3px 1px rgba(60, 64, 67, 0.15);\n",
              "      fill: #174EA6;\n",
              "    }\n",
              "\n",
              "    [theme=dark] .colab-df-convert {\n",
              "      background-color: #3B4455;\n",
              "      fill: #D2E3FC;\n",
              "    }\n",
              "\n",
              "    [theme=dark] .colab-df-convert:hover {\n",
              "      background-color: #434B5C;\n",
              "      box-shadow: 0px 1px 3px 1px rgba(0, 0, 0, 0.15);\n",
              "      filter: drop-shadow(0px 1px 2px rgba(0, 0, 0, 0.3));\n",
              "      fill: #FFFFFF;\n",
              "    }\n",
              "  </style>\n",
              "\n",
              "      <script>\n",
              "        const buttonEl =\n",
              "          document.querySelector('#df-0ef8a993-fea0-4456-a5d6-5c92d71aa5c4 button.colab-df-convert');\n",
              "        buttonEl.style.display =\n",
              "          google.colab.kernel.accessAllowed ? 'block' : 'none';\n",
              "\n",
              "        async function convertToInteractive(key) {\n",
              "          const element = document.querySelector('#df-0ef8a993-fea0-4456-a5d6-5c92d71aa5c4');\n",
              "          const dataTable =\n",
              "            await google.colab.kernel.invokeFunction('convertToInteractive',\n",
              "                                                     [key], {});\n",
              "          if (!dataTable) return;\n",
              "\n",
              "          const docLinkHtml = 'Like what you see? Visit the ' +\n",
              "            '<a target=\"_blank\" href=https://colab.research.google.com/notebooks/data_table.ipynb>data table notebook</a>'\n",
              "            + ' to learn more about interactive tables.';\n",
              "          element.innerHTML = '';\n",
              "          dataTable['output_type'] = 'display_data';\n",
              "          await google.colab.output.renderOutput(dataTable, element);\n",
              "          const docLink = document.createElement('div');\n",
              "          docLink.innerHTML = docLinkHtml;\n",
              "          element.appendChild(docLink);\n",
              "        }\n",
              "      </script>\n",
              "    </div>\n",
              "  </div>\n",
              "  "
            ]
          },
          "metadata": {},
          "execution_count": 32
        }
      ]
    },
    {
      "cell_type": "code",
      "source": [
        "# Pick the relevant columns of interest\n",
        "columns_of_interest = ['data/review_body', 'data/star_rating']\n",
        "data = dataset[columns_of_interest]\n",
        "data.head()"
      ],
      "metadata": {
        "cell_id": "caa490ded8a9441193f002a529cc8f2b",
        "tags": [],
        "deepnote_to_be_reexecuted": true,
        "source_hash": "aacb2f48",
        "execution_start": 1654259700745,
        "execution_millis": 119,
        "deepnote_cell_type": "code",
        "deepnote_cell_height": 449,
        "execution": {
          "iopub.status.busy": "2022-06-03T14:43:37.903852Z",
          "iopub.execute_input": "2022-06-03T14:43:37.904262Z",
          "iopub.status.idle": "2022-06-03T14:43:37.922444Z",
          "shell.execute_reply.started": "2022-06-03T14:43:37.904225Z",
          "shell.execute_reply": "2022-06-03T14:43:37.921418Z"
        },
        "trusted": true,
        "colab": {
          "base_uri": "https://localhost:8080/",
          "height": 206
        },
        "id": "lhNkqwMgaGSm",
        "outputId": "1e775bee-0159-483a-b4a6-2ddebb121df2"
      },
      "execution_count": 33,
      "outputs": [
        {
          "output_type": "execute_result",
          "data": {
            "text/plain": [
              "                                    data/review_body  data/star_rating\n",
              "0                                   b'Does not work'                 1\n",
              "1  b'This is a great wiring kit i used it to set ...                 4\n",
              "2  b'It works great so much faster than USB charg...                 5\n",
              "3  b'This product was purchased to hold a monitor...                 5\n",
              "4  b\"it works but it has really bad sound quality...                 3"
            ],
            "text/html": [
              "\n",
              "  <div id=\"df-b908c3eb-b591-4ef8-a92a-c3dff51212a3\">\n",
              "    <div class=\"colab-df-container\">\n",
              "      <div>\n",
              "<style scoped>\n",
              "    .dataframe tbody tr th:only-of-type {\n",
              "        vertical-align: middle;\n",
              "    }\n",
              "\n",
              "    .dataframe tbody tr th {\n",
              "        vertical-align: top;\n",
              "    }\n",
              "\n",
              "    .dataframe thead th {\n",
              "        text-align: right;\n",
              "    }\n",
              "</style>\n",
              "<table border=\"1\" class=\"dataframe\">\n",
              "  <thead>\n",
              "    <tr style=\"text-align: right;\">\n",
              "      <th></th>\n",
              "      <th>data/review_body</th>\n",
              "      <th>data/star_rating</th>\n",
              "    </tr>\n",
              "  </thead>\n",
              "  <tbody>\n",
              "    <tr>\n",
              "      <th>0</th>\n",
              "      <td>b'Does not work'</td>\n",
              "      <td>1</td>\n",
              "    </tr>\n",
              "    <tr>\n",
              "      <th>1</th>\n",
              "      <td>b'This is a great wiring kit i used it to set ...</td>\n",
              "      <td>4</td>\n",
              "    </tr>\n",
              "    <tr>\n",
              "      <th>2</th>\n",
              "      <td>b'It works great so much faster than USB charg...</td>\n",
              "      <td>5</td>\n",
              "    </tr>\n",
              "    <tr>\n",
              "      <th>3</th>\n",
              "      <td>b'This product was purchased to hold a monitor...</td>\n",
              "      <td>5</td>\n",
              "    </tr>\n",
              "    <tr>\n",
              "      <th>4</th>\n",
              "      <td>b\"it works but it has really bad sound quality...</td>\n",
              "      <td>3</td>\n",
              "    </tr>\n",
              "  </tbody>\n",
              "</table>\n",
              "</div>\n",
              "      <button class=\"colab-df-convert\" onclick=\"convertToInteractive('df-b908c3eb-b591-4ef8-a92a-c3dff51212a3')\"\n",
              "              title=\"Convert this dataframe to an interactive table.\"\n",
              "              style=\"display:none;\">\n",
              "        \n",
              "  <svg xmlns=\"http://www.w3.org/2000/svg\" height=\"24px\"viewBox=\"0 0 24 24\"\n",
              "       width=\"24px\">\n",
              "    <path d=\"M0 0h24v24H0V0z\" fill=\"none\"/>\n",
              "    <path d=\"M18.56 5.44l.94 2.06.94-2.06 2.06-.94-2.06-.94-.94-2.06-.94 2.06-2.06.94zm-11 1L8.5 8.5l.94-2.06 2.06-.94-2.06-.94L8.5 2.5l-.94 2.06-2.06.94zm10 10l.94 2.06.94-2.06 2.06-.94-2.06-.94-.94-2.06-.94 2.06-2.06.94z\"/><path d=\"M17.41 7.96l-1.37-1.37c-.4-.4-.92-.59-1.43-.59-.52 0-1.04.2-1.43.59L10.3 9.45l-7.72 7.72c-.78.78-.78 2.05 0 2.83L4 21.41c.39.39.9.59 1.41.59.51 0 1.02-.2 1.41-.59l7.78-7.78 2.81-2.81c.8-.78.8-2.07 0-2.86zM5.41 20L4 18.59l7.72-7.72 1.47 1.35L5.41 20z\"/>\n",
              "  </svg>\n",
              "      </button>\n",
              "      \n",
              "  <style>\n",
              "    .colab-df-container {\n",
              "      display:flex;\n",
              "      flex-wrap:wrap;\n",
              "      gap: 12px;\n",
              "    }\n",
              "\n",
              "    .colab-df-convert {\n",
              "      background-color: #E8F0FE;\n",
              "      border: none;\n",
              "      border-radius: 50%;\n",
              "      cursor: pointer;\n",
              "      display: none;\n",
              "      fill: #1967D2;\n",
              "      height: 32px;\n",
              "      padding: 0 0 0 0;\n",
              "      width: 32px;\n",
              "    }\n",
              "\n",
              "    .colab-df-convert:hover {\n",
              "      background-color: #E2EBFA;\n",
              "      box-shadow: 0px 1px 2px rgba(60, 64, 67, 0.3), 0px 1px 3px 1px rgba(60, 64, 67, 0.15);\n",
              "      fill: #174EA6;\n",
              "    }\n",
              "\n",
              "    [theme=dark] .colab-df-convert {\n",
              "      background-color: #3B4455;\n",
              "      fill: #D2E3FC;\n",
              "    }\n",
              "\n",
              "    [theme=dark] .colab-df-convert:hover {\n",
              "      background-color: #434B5C;\n",
              "      box-shadow: 0px 1px 3px 1px rgba(0, 0, 0, 0.15);\n",
              "      filter: drop-shadow(0px 1px 2px rgba(0, 0, 0, 0.3));\n",
              "      fill: #FFFFFF;\n",
              "    }\n",
              "  </style>\n",
              "\n",
              "      <script>\n",
              "        const buttonEl =\n",
              "          document.querySelector('#df-b908c3eb-b591-4ef8-a92a-c3dff51212a3 button.colab-df-convert');\n",
              "        buttonEl.style.display =\n",
              "          google.colab.kernel.accessAllowed ? 'block' : 'none';\n",
              "\n",
              "        async function convertToInteractive(key) {\n",
              "          const element = document.querySelector('#df-b908c3eb-b591-4ef8-a92a-c3dff51212a3');\n",
              "          const dataTable =\n",
              "            await google.colab.kernel.invokeFunction('convertToInteractive',\n",
              "                                                     [key], {});\n",
              "          if (!dataTable) return;\n",
              "\n",
              "          const docLinkHtml = 'Like what you see? Visit the ' +\n",
              "            '<a target=\"_blank\" href=https://colab.research.google.com/notebooks/data_table.ipynb>data table notebook</a>'\n",
              "            + ' to learn more about interactive tables.';\n",
              "          element.innerHTML = '';\n",
              "          dataTable['output_type'] = 'display_data';\n",
              "          await google.colab.output.renderOutput(dataTable, element);\n",
              "          const docLink = document.createElement('div');\n",
              "          docLink.innerHTML = docLinkHtml;\n",
              "          element.appendChild(docLink);\n",
              "        }\n",
              "      </script>\n",
              "    </div>\n",
              "  </div>\n",
              "  "
            ]
          },
          "metadata": {},
          "execution_count": 33
        }
      ]
    },
    {
      "cell_type": "code",
      "source": [
        "# Get the number of samples\n",
        "print(\"Total number of datapoints:\", data.shape[0])"
      ],
      "metadata": {
        "cell_id": "494ed0db9b9d4a32afbc7f4d07cc3621",
        "tags": [],
        "deepnote_to_be_reexecuted": true,
        "source_hash": "89f4cefe",
        "execution_start": 1654259700768,
        "execution_millis": 99,
        "deepnote_cell_type": "code",
        "deepnote_cell_height": 130.1875,
        "execution": {
          "iopub.status.busy": "2022-06-03T14:43:37.923929Z",
          "iopub.execute_input": "2022-06-03T14:43:37.924485Z",
          "iopub.status.idle": "2022-06-03T14:43:37.931237Z",
          "shell.execute_reply.started": "2022-06-03T14:43:37.924445Z",
          "shell.execute_reply": "2022-06-03T14:43:37.930428Z"
        },
        "trusted": true,
        "colab": {
          "base_uri": "https://localhost:8080/"
        },
        "id": "ok8yl2T-aGSo",
        "outputId": "f49c71f2-1207-44d8-e741-ecbda123c107"
      },
      "execution_count": 34,
      "outputs": [
        {
          "output_type": "stream",
          "name": "stdout",
          "text": [
            "Total number of datapoints: 104975\n"
          ]
        }
      ]
    },
    {
      "cell_type": "code",
      "source": [
        "# Get the number of class (we will convert this the rating to sentiment in the next stage)\n",
        "print(\"Number of classes:\", data['data/star_rating'].nunique())"
      ],
      "metadata": {
        "cell_id": "cf42d1bcc2264587b7e615de4a7d5f31",
        "tags": [],
        "deepnote_to_be_reexecuted": true,
        "source_hash": "8ba8b5b4",
        "execution_start": 1654259700791,
        "execution_millis": 78,
        "deepnote_cell_type": "code",
        "deepnote_cell_height": 130.1875,
        "execution": {
          "iopub.status.busy": "2022-06-03T14:43:37.932838Z",
          "iopub.execute_input": "2022-06-03T14:43:37.933524Z",
          "iopub.status.idle": "2022-06-03T14:43:37.944591Z",
          "shell.execute_reply.started": "2022-06-03T14:43:37.933482Z",
          "shell.execute_reply": "2022-06-03T14:43:37.943652Z"
        },
        "trusted": true,
        "colab": {
          "base_uri": "https://localhost:8080/"
        },
        "id": "e7oCtcuLaGSq",
        "outputId": "31b452b9-f20b-4548-a32d-56c046b6a428"
      },
      "execution_count": 35,
      "outputs": [
        {
          "output_type": "stream",
          "name": "stdout",
          "text": [
            "Number of classes: 5\n"
          ]
        }
      ]
    },
    {
      "cell_type": "code",
      "source": [
        "# Get the number of samples per class\n",
        "print(\"Number of samples per class: \\n\" ,data['data/star_rating'].value_counts())"
      ],
      "metadata": {
        "cell_id": "72814594d2254312abdc8bf3bd97dfe0",
        "tags": [],
        "deepnote_to_be_reexecuted": true,
        "source_hash": "7a54dc4b",
        "execution_start": 1654259700849,
        "execution_millis": 22,
        "deepnote_cell_type": "code",
        "deepnote_cell_height": 251.3125,
        "execution": {
          "iopub.status.busy": "2022-06-03T14:43:37.946425Z",
          "iopub.execute_input": "2022-06-03T14:43:37.947050Z",
          "iopub.status.idle": "2022-06-03T14:43:37.955093Z",
          "shell.execute_reply.started": "2022-06-03T14:43:37.947012Z",
          "shell.execute_reply": "2022-06-03T14:43:37.954137Z"
        },
        "trusted": true,
        "colab": {
          "base_uri": "https://localhost:8080/"
        },
        "id": "pFdljIhPaGSr",
        "outputId": "700bb147-2fb7-4bd2-ae3a-a5d96555e106"
      },
      "execution_count": 36,
      "outputs": [
        {
          "output_type": "stream",
          "name": "stdout",
          "text": [
            "Number of samples per class: \n",
            " 5    52255\n",
            "4    18088\n",
            "1    17587\n",
            "3     9734\n",
            "2     7311\n",
            "Name: data/star_rating, dtype: int64\n"
          ]
        }
      ]
    },
    {
      "cell_type": "code",
      "source": [
        "# Get the number of words per sample\n",
        "print(\"Number of words per sample: \" ,np.mean(data['data/review_body'].apply(lambda x: len(x.split()))))"
      ],
      "metadata": {
        "cell_id": "46f684b8d8ef42b8bf8b47d05d11989c",
        "tags": [],
        "deepnote_to_be_reexecuted": true,
        "source_hash": "833f8f7",
        "execution_start": 1654259700849,
        "execution_millis": 522,
        "deepnote_cell_type": "code",
        "deepnote_cell_height": 130.1875,
        "execution": {
          "iopub.status.busy": "2022-06-03T14:43:37.956951Z",
          "iopub.execute_input": "2022-06-03T14:43:37.957508Z",
          "iopub.status.idle": "2022-06-03T14:43:38.421412Z",
          "shell.execute_reply.started": "2022-06-03T14:43:37.957473Z",
          "shell.execute_reply": "2022-06-03T14:43:38.420529Z"
        },
        "trusted": true,
        "colab": {
          "base_uri": "https://localhost:8080/"
        },
        "id": "DD-WH9NDaGSs",
        "outputId": "17681671-97ca-48c4-998b-8746ae70eeda"
      },
      "execution_count": 37,
      "outputs": [
        {
          "output_type": "stream",
          "name": "stdout",
          "text": [
            "Number of words per sample:  63.97938556799238\n"
          ]
        }
      ]
    },
    {
      "cell_type": "code",
      "source": [
        "# Get the distribution of number of words per sample\n",
        "print(\"Distribution of number of words per sample:\")\n",
        "pd.DataFrame([len(s) for s in data['data/review_body']]).value_counts()"
      ],
      "metadata": {
        "cell_id": "bbdd52680bcf4fd190a6a481850207d8",
        "tags": [],
        "deepnote_to_be_reexecuted": true,
        "source_hash": "c5c18bd0",
        "execution_start": 1654259701405,
        "execution_millis": 105,
        "deepnote_cell_type": "code",
        "deepnote_cell_height": 411.4375,
        "deepnote_output_heights": [
          null,
          232.25
        ],
        "execution": {
          "iopub.status.busy": "2022-06-03T14:43:38.424892Z",
          "iopub.execute_input": "2022-06-03T14:43:38.425467Z",
          "iopub.status.idle": "2022-06-03T14:43:38.508151Z",
          "shell.execute_reply.started": "2022-06-03T14:43:38.425430Z",
          "shell.execute_reply": "2022-06-03T14:43:38.507273Z"
        },
        "trusted": true,
        "colab": {
          "base_uri": "https://localhost:8080/"
        },
        "id": "JVDq_O4WaGSs",
        "outputId": "8ca7554a-0d20-40e1-a7c8-5afcf7ca086f"
      },
      "execution_count": 38,
      "outputs": [
        {
          "output_type": "stream",
          "name": "stdout",
          "text": [
            "Distribution of number of words per sample:\n"
          ]
        },
        {
          "output_type": "execute_result",
          "data": {
            "text/plain": [
              "9        550\n",
              "114      534\n",
              "115      523\n",
              "113      522\n",
              "119      518\n",
              "        ... \n",
              "2724       1\n",
              "2729       1\n",
              "2731       1\n",
              "2732       1\n",
              "16009      1\n",
              "Length: 3079, dtype: int64"
            ]
          },
          "metadata": {},
          "execution_count": 38
        }
      ]
    },
    {
      "cell_type": "code",
      "source": [
        "# Plot the distribution of of sample length\n",
        "def plot_sample_length_distribution(sample_texts):\n",
        "    \"\"\"Plots the sample length distribution.\n",
        "\n",
        "    # Arguments\n",
        "        samples_texts: list, sample texts.\n",
        "    \"\"\"\n",
        "\n",
        "    plt.hist([len(s) for s in sample_texts], 50)\n",
        "    plt.xlabel('Length of a sample')\n",
        "    plt.ylabel('Number of samples')\n",
        "    plt.title('Sample length distribution')\n",
        "    plt.show()\n",
        "\n",
        "plot_sample_length_distribution(data['data/review_body'].tolist())"
      ],
      "metadata": {
        "cell_id": "18acf6975f474e2a8aa3b51ee46dac74",
        "tags": [],
        "deepnote_to_be_reexecuted": true,
        "source_hash": "15a0b1d8",
        "execution_start": 1654259701509,
        "execution_millis": 998,
        "deepnote_cell_type": "code",
        "deepnote_cell_height": 629,
        "deepnote_output_heights": [
          280
        ],
        "execution": {
          "iopub.status.busy": "2022-06-03T14:43:38.509418Z",
          "iopub.execute_input": "2022-06-03T14:43:38.509839Z",
          "iopub.status.idle": "2022-06-03T14:43:39.297580Z",
          "shell.execute_reply.started": "2022-06-03T14:43:38.509801Z",
          "shell.execute_reply": "2022-06-03T14:43:39.296771Z"
        },
        "trusted": true,
        "colab": {
          "base_uri": "https://localhost:8080/",
          "height": 472
        },
        "id": "lGRkFrDjaGSt",
        "outputId": "7fbcdd6b-c89e-4697-e8c7-7b006b2a0d75"
      },
      "execution_count": 39,
      "outputs": [
        {
          "output_type": "display_data",
          "data": {
            "text/plain": [
              "<Figure size 640x480 with 1 Axes>"
            ],
            "image/png": "[encoded data removed]"
          },
          "metadata": {}
        }
      ]
    },
    {
      "cell_type": "markdown",
      "source": [
        "#### Stage 2.5: Choose a model\n",
        "\n",
        "The data exploration we performed in the previous stage helps us in answering the following questions,\n",
        "\n",
        "- **Which model to choose?** - If the data is less and we have enough representation per class, going for a simple MLP or ML model would suffice. If you have enough data and there is no pretrained model for that domain, you can train a sequence model from scratch. If you find  pre-trained models in a particular domain and you want to apply it to a similar domain data where you have just enough data, then choose transfer learning.\n",
        "\n",
        "- **How do we prepare the data efficiently?** - Based on the model we choose, the type of preprocessing changes. If we choose a simple MLP or ML model, we perform vectorization using bag of words after appropriate preprocessing. For sequence models, we may need to preserve the context of the data, so we will go for embeddings like word2vec, sentenece embeddigns etc."
      ],
      "metadata": {
        "cell_id": "d9ea6dd150a747e8b4de9bcba51beed8",
        "tags": [],
        "deepnote_cell_type": "markdown",
        "deepnote_cell_height": 46,
        "id": "fzta-kFCaGSt"
      }
    },
    {
      "cell_type": "markdown",
      "source": [
        "### Stage 3: Prepare the data\n",
        "\n",
        "Data should be converted to a form that the model can understand. Data preparation involves two steps,\n",
        "\n",
        "- **Feature engineering:**\n",
        "Feature engineering involves creating or extracting features out of the textual data so that it can be fed into the model. There are two steps that needs to be done while extracting features, \n",
        "\n",
        "    1. **Tokenization:** Converting the texts into smaller units like words(tokens) or n-grams. Based on the unique tokens, a dictionary will be created, which forms the vocabulary for the given dataset.\n",
        "\n",
        "    2. **Vectorization:** Converting the textual data into numbers using the vocabulary. Some common techniques used for vectorizations are one-hot encoding (based on the presence or absence of a token), count encoding (based on the number of occurance of a token), and Tf-idf encoding (based on weights assigned to the frequency of occurance of tokens across the documents).\n",
        "\n",
        "- **Feature Selection:** \n",
        "Once the features are created, we can carefully select relevant features using feature importance through some statistical measure. Using the right features, both in terms of quantity and quality will help in building better models.\n",
        "\n",
        "#### Important points to remember: \n",
        "- Always make sure that the data is shuffled and sampled.\n",
        "- Split the data into train, test and validation splits.\n",
        "- Save the vectorizer after vectorizing the training data and use it to transform the test data."
      ],
      "metadata": {
        "cell_id": "bcbecfc428eb42f1ad4e1e7dc7cea339",
        "tags": [],
        "deepnote_cell_type": "markdown",
        "deepnote_cell_height": 635.03125,
        "id": "d_c1TWO3aGSu"
      }
    },
    {
      "cell_type": "code",
      "source": [
        "# Take a sample of 50% of the dataset for the purpose of demonstration\n",
        "data = data.sample(frac=0.3, random_state=42)\n",
        "data.head()"
      ],
      "metadata": {
        "cell_id": "30bb8197b4b34bdd8523d768338d00ac",
        "tags": [],
        "deepnote_to_be_reexecuted": true,
        "source_hash": "66b28070",
        "execution_start": 1654259702513,
        "execution_millis": 41,
        "deepnote_cell_type": "code",
        "deepnote_cell_height": 431,
        "execution": {
          "iopub.status.busy": "2022-06-03T14:43:39.298708Z",
          "iopub.execute_input": "2022-06-03T14:43:39.299640Z",
          "iopub.status.idle": "2022-06-03T14:43:39.320057Z",
          "shell.execute_reply.started": "2022-06-03T14:43:39.299602Z",
          "shell.execute_reply": "2022-06-03T14:43:39.319184Z"
        },
        "trusted": true,
        "colab": {
          "base_uri": "https://localhost:8080/",
          "height": 206
        },
        "id": "SSZJWaLxaGSu",
        "outputId": "7f0279a8-13f1-46b9-c6a5-d46781565b3f"
      },
      "execution_count": 40,
      "outputs": [
        {
          "output_type": "execute_result",
          "data": {
            "text/plain": [
              "                                        data/review_body  data/star_rating\n",
              "87666  b\"The motor spins and is not stationary. That ...                 3\n",
              "47509                                            b'Fake'                 1\n",
              "69877  b\"Even though there are finally some silicone ...                 5\n",
              "11951  b\"Absolutely Wonderful:  This product is every...                 5\n",
              "73562  b\"Love this Bluetooth speaker...easy setup, wo...                 5"
            ],
            "text/html": [
              "\n",
              "  <div id=\"df-01372392-9277-412e-a8c5-497fe786d6f9\">\n",
              "    <div class=\"colab-df-container\">\n",
              "      <div>\n",
              "<style scoped>\n",
              "    .dataframe tbody tr th:only-of-type {\n",
              "        vertical-align: middle;\n",
              "    }\n",
              "\n",
              "    .dataframe tbody tr th {\n",
              "        vertical-align: top;\n",
              "    }\n",
              "\n",
              "    .dataframe thead th {\n",
              "        text-align: right;\n",
              "    }\n",
              "</style>\n",
              "<table border=\"1\" class=\"dataframe\">\n",
              "  <thead>\n",
              "    <tr style=\"text-align: right;\">\n",
              "      <th></th>\n",
              "      <th>data/review_body</th>\n",
              "      <th>data/star_rating</th>\n",
              "    </tr>\n",
              "  </thead>\n",
              "  <tbody>\n",
              "    <tr>\n",
              "      <th>87666</th>\n",
              "      <td>b\"The motor spins and is not stationary. That ...</td>\n",
              "      <td>3</td>\n",
              "    </tr>\n",
              "    <tr>\n",
              "      <th>47509</th>\n",
              "      <td>b'Fake'</td>\n",
              "      <td>1</td>\n",
              "    </tr>\n",
              "    <tr>\n",
              "      <th>69877</th>\n",
              "      <td>b\"Even though there are finally some silicone ...</td>\n",
              "      <td>5</td>\n",
              "    </tr>\n",
              "    <tr>\n",
              "      <th>11951</th>\n",
              "      <td>b\"Absolutely Wonderful:  This product is every...</td>\n",
              "      <td>5</td>\n",
              "    </tr>\n",
              "    <tr>\n",
              "      <th>73562</th>\n",
              "      <td>b\"Love this Bluetooth speaker...easy setup, wo...</td>\n",
              "      <td>5</td>\n",
              "    </tr>\n",
              "  </tbody>\n",
              "</table>\n",
              "</div>\n",
              "      <button class=\"colab-df-convert\" onclick=\"convertToInteractive('df-01372392-9277-412e-a8c5-497fe786d6f9')\"\n",
              "              title=\"Convert this dataframe to an interactive table.\"\n",
              "              style=\"display:none;\">\n",
              "        \n",
              "  <svg xmlns=\"http://www.w3.org/2000/svg\" height=\"24px\"viewBox=\"0 0 24 24\"\n",
              "       width=\"24px\">\n",
              "    <path d=\"M0 0h24v24H0V0z\" fill=\"none\"/>\n",
              "    <path d=\"M18.56 5.44l.94 2.06.94-2.06 2.06-.94-2.06-.94-.94-2.06-.94 2.06-2.06.94zm-11 1L8.5 8.5l.94-2.06 2.06-.94-2.06-.94L8.5 2.5l-.94 2.06-2.06.94zm10 10l.94 2.06.94-2.06 2.06-.94-2.06-.94-.94-2.06-.94 2.06-2.06.94z\"/><path d=\"M17.41 7.96l-1.37-1.37c-.4-.4-.92-.59-1.43-.59-.52 0-1.04.2-1.43.59L10.3 9.45l-7.72 7.72c-.78.78-.78 2.05 0 2.83L4 21.41c.39.39.9.59 1.41.59.51 0 1.02-.2 1.41-.59l7.78-7.78 2.81-2.81c.8-.78.8-2.07 0-2.86zM5.41 20L4 18.59l7.72-7.72 1.47 1.35L5.41 20z\"/>\n",
              "  </svg>\n",
              "      </button>\n",
              "      \n",
              "  <style>\n",
              "    .colab-df-container {\n",
              "      display:flex;\n",
              "      flex-wrap:wrap;\n",
              "      gap: 12px;\n",
              "    }\n",
              "\n",
              "    .colab-df-convert {\n",
              "      background-color: #E8F0FE;\n",
              "      border: none;\n",
              "      border-radius: 50%;\n",
              "      cursor: pointer;\n",
              "      display: none;\n",
              "      fill: #1967D2;\n",
              "      height: 32px;\n",
              "      padding: 0 0 0 0;\n",
              "      width: 32px;\n",
              "    }\n",
              "\n",
              "    .colab-df-convert:hover {\n",
              "      background-color: #E2EBFA;\n",
              "      box-shadow: 0px 1px 2px rgba(60, 64, 67, 0.3), 0px 1px 3px 1px rgba(60, 64, 67, 0.15);\n",
              "      fill: #174EA6;\n",
              "    }\n",
              "\n",
              "    [theme=dark] .colab-df-convert {\n",
              "      background-color: #3B4455;\n",
              "      fill: #D2E3FC;\n",
              "    }\n",
              "\n",
              "    [theme=dark] .colab-df-convert:hover {\n",
              "      background-color: #434B5C;\n",
              "      box-shadow: 0px 1px 3px 1px rgba(0, 0, 0, 0.15);\n",
              "      filter: drop-shadow(0px 1px 2px rgba(0, 0, 0, 0.3));\n",
              "      fill: #FFFFFF;\n",
              "    }\n",
              "  </style>\n",
              "\n",
              "      <script>\n",
              "        const buttonEl =\n",
              "          document.querySelector('#df-01372392-9277-412e-a8c5-497fe786d6f9 button.colab-df-convert');\n",
              "        buttonEl.style.display =\n",
              "          google.colab.kernel.accessAllowed ? 'block' : 'none';\n",
              "\n",
              "        async function convertToInteractive(key) {\n",
              "          const element = document.querySelector('#df-01372392-9277-412e-a8c5-497fe786d6f9');\n",
              "          const dataTable =\n",
              "            await google.colab.kernel.invokeFunction('convertToInteractive',\n",
              "                                                     [key], {});\n",
              "          if (!dataTable) return;\n",
              "\n",
              "          const docLinkHtml = 'Like what you see? Visit the ' +\n",
              "            '<a target=\"_blank\" href=https://colab.research.google.com/notebooks/data_table.ipynb>data table notebook</a>'\n",
              "            + ' to learn more about interactive tables.';\n",
              "          element.innerHTML = '';\n",
              "          dataTable['output_type'] = 'display_data';\n",
              "          await google.colab.output.renderOutput(dataTable, element);\n",
              "          const docLink = document.createElement('div');\n",
              "          docLink.innerHTML = docLinkHtml;\n",
              "          element.appendChild(docLink);\n",
              "        }\n",
              "      </script>\n",
              "    </div>\n",
              "  </div>\n",
              "  "
            ]
          },
          "metadata": {},
          "execution_count": 40
        }
      ]
    },
    {
      "cell_type": "code",
      "source": [
        "print(\"Number of datapoints after samplig:\", data.shape)"
      ],
      "metadata": {
        "cell_id": "1c9a6420385a400ba79dd6b9d1b2bd2a",
        "tags": [],
        "deepnote_to_be_reexecuted": true,
        "source_hash": "650603e3",
        "execution_start": 1654259702606,
        "execution_millis": 0,
        "deepnote_cell_type": "code",
        "deepnote_cell_height": 112.1875,
        "execution": {
          "iopub.status.busy": "2022-06-03T14:43:39.321308Z",
          "iopub.execute_input": "2022-06-03T14:43:39.321650Z",
          "iopub.status.idle": "2022-06-03T14:43:39.326940Z",
          "shell.execute_reply.started": "2022-06-03T14:43:39.321615Z",
          "shell.execute_reply": "2022-06-03T14:43:39.326102Z"
        },
        "trusted": true,
        "colab": {
          "base_uri": "https://localhost:8080/"
        },
        "id": "Px-vBaclaGSv",
        "outputId": "a9d27653-7835-41b6-ada4-7d57472376a2"
      },
      "execution_count": 41,
      "outputs": [
        {
          "output_type": "stream",
          "name": "stdout",
          "text": [
            "Number of datapoints after samplig: (31492, 2)\n"
          ]
        }
      ]
    },
    {
      "cell_type": "code",
      "source": [
        "# Convert the star rating to sentiment\n",
        "data['sentiment'] = data['data/star_rating'].apply(lambda rating: \"positive\" if rating >= 3 else \"negative\")\n",
        "data.head()"
      ],
      "metadata": {
        "cell_id": "10576c8b76eb48e6b21f338e060b8905",
        "tags": [],
        "deepnote_to_be_reexecuted": true,
        "source_hash": "82c242fa",
        "execution_start": 1654259702607,
        "execution_millis": 46,
        "deepnote_cell_type": "code",
        "deepnote_cell_height": 431,
        "execution": {
          "iopub.status.busy": "2022-06-03T14:43:39.328613Z",
          "iopub.execute_input": "2022-06-03T14:43:39.329362Z",
          "iopub.status.idle": "2022-06-03T14:43:39.356998Z",
          "shell.execute_reply.started": "2022-06-03T14:43:39.329266Z",
          "shell.execute_reply": "2022-06-03T14:43:39.356153Z"
        },
        "trusted": true,
        "colab": {
          "base_uri": "https://localhost:8080/",
          "height": 206
        },
        "id": "m2CuT4zUaGSv",
        "outputId": "8ecb35f1-611b-4e34-d5c5-65fab332df46"
      },
      "execution_count": 42,
      "outputs": [
        {
          "output_type": "execute_result",
          "data": {
            "text/plain": [
              "                                        data/review_body  data/star_rating  \\\n",
              "87666  b\"The motor spins and is not stationary. That ...                 3   \n",
              "47509                                            b'Fake'                 1   \n",
              "69877  b\"Even though there are finally some silicone ...                 5   \n",
              "11951  b\"Absolutely Wonderful:  This product is every...                 5   \n",
              "73562  b\"Love this Bluetooth speaker...easy setup, wo...                 5   \n",
              "\n",
              "      sentiment  \n",
              "87666  positive  \n",
              "47509  negative  \n",
              "69877  positive  \n",
              "11951  positive  \n",
              "73562  positive  "
            ],
            "text/html": [
              "\n",
              "  <div id=\"df-a21fc19a-92cc-4065-b38f-3f774aff7223\">\n",
              "    <div class=\"colab-df-container\">\n",
              "      <div>\n",
              "<style scoped>\n",
              "    .dataframe tbody tr th:only-of-type {\n",
              "        vertical-align: middle;\n",
              "    }\n",
              "\n",
              "    .dataframe tbody tr th {\n",
              "        vertical-align: top;\n",
              "    }\n",
              "\n",
              "    .dataframe thead th {\n",
              "        text-align: right;\n",
              "    }\n",
              "</style>\n",
              "<table border=\"1\" class=\"dataframe\">\n",
              "  <thead>\n",
              "    <tr style=\"text-align: right;\">\n",
              "      <th></th>\n",
              "      <th>data/review_body</th>\n",
              "      <th>data/star_rating</th>\n",
              "      <th>sentiment</th>\n",
              "    </tr>\n",
              "  </thead>\n",
              "  <tbody>\n",
              "    <tr>\n",
              "      <th>87666</th>\n",
              "      <td>b\"The motor spins and is not stationary. That ...</td>\n",
              "      <td>3</td>\n",
              "      <td>positive</td>\n",
              "    </tr>\n",
              "    <tr>\n",
              "      <th>47509</th>\n",
              "      <td>b'Fake'</td>\n",
              "      <td>1</td>\n",
              "      <td>negative</td>\n",
              "    </tr>\n",
              "    <tr>\n",
              "      <th>69877</th>\n",
              "      <td>b\"Even though there are finally some silicone ...</td>\n",
              "      <td>5</td>\n",
              "      <td>positive</td>\n",
              "    </tr>\n",
              "    <tr>\n",
              "      <th>11951</th>\n",
              "      <td>b\"Absolutely Wonderful:  This product is every...</td>\n",
              "      <td>5</td>\n",
              "      <td>positive</td>\n",
              "    </tr>\n",
              "    <tr>\n",
              "      <th>73562</th>\n",
              "      <td>b\"Love this Bluetooth speaker...easy setup, wo...</td>\n",
              "      <td>5</td>\n",
              "      <td>positive</td>\n",
              "    </tr>\n",
              "  </tbody>\n",
              "</table>\n",
              "</div>\n",
              "      <button class=\"colab-df-convert\" onclick=\"convertToInteractive('df-a21fc19a-92cc-4065-b38f-3f774aff7223')\"\n",
              "              title=\"Convert this dataframe to an interactive table.\"\n",
              "              style=\"display:none;\">\n",
              "        \n",
              "  <svg xmlns=\"http://www.w3.org/2000/svg\" height=\"24px\"viewBox=\"0 0 24 24\"\n",
              "       width=\"24px\">\n",
              "    <path d=\"M0 0h24v24H0V0z\" fill=\"none\"/>\n",
              "    <path d=\"M18.56 5.44l.94 2.06.94-2.06 2.06-.94-2.06-.94-.94-2.06-.94 2.06-2.06.94zm-11 1L8.5 8.5l.94-2.06 2.06-.94-2.06-.94L8.5 2.5l-.94 2.06-2.06.94zm10 10l.94 2.06.94-2.06 2.06-.94-2.06-.94-.94-2.06-.94 2.06-2.06.94z\"/><path d=\"M17.41 7.96l-1.37-1.37c-.4-.4-.92-.59-1.43-.59-.52 0-1.04.2-1.43.59L10.3 9.45l-7.72 7.72c-.78.78-.78 2.05 0 2.83L4 21.41c.39.39.9.59 1.41.59.51 0 1.02-.2 1.41-.59l7.78-7.78 2.81-2.81c.8-.78.8-2.07 0-2.86zM5.41 20L4 18.59l7.72-7.72 1.47 1.35L5.41 20z\"/>\n",
              "  </svg>\n",
              "      </button>\n",
              "      \n",
              "  <style>\n",
              "    .colab-df-container {\n",
              "      display:flex;\n",
              "      flex-wrap:wrap;\n",
              "      gap: 12px;\n",
              "    }\n",
              "\n",
              "    .colab-df-convert {\n",
              "      background-color: #E8F0FE;\n",
              "      border: none;\n",
              "      border-radius: 50%;\n",
              "      cursor: pointer;\n",
              "      display: none;\n",
              "      fill: #1967D2;\n",
              "      height: 32px;\n",
              "      padding: 0 0 0 0;\n",
              "      width: 32px;\n",
              "    }\n",
              "\n",
              "    .colab-df-convert:hover {\n",
              "      background-color: #E2EBFA;\n",
              "      box-shadow: 0px 1px 2px rgba(60, 64, 67, 0.3), 0px 1px 3px 1px rgba(60, 64, 67, 0.15);\n",
              "      fill: #174EA6;\n",
              "    }\n",
              "\n",
              "    [theme=dark] .colab-df-convert {\n",
              "      background-color: #3B4455;\n",
              "      fill: #D2E3FC;\n",
              "    }\n",
              "\n",
              "    [theme=dark] .colab-df-convert:hover {\n",
              "      background-color: #434B5C;\n",
              "      box-shadow: 0px 1px 3px 1px rgba(0, 0, 0, 0.15);\n",
              "      filter: drop-shadow(0px 1px 2px rgba(0, 0, 0, 0.3));\n",
              "      fill: #FFFFFF;\n",
              "    }\n",
              "  </style>\n",
              "\n",
              "      <script>\n",
              "        const buttonEl =\n",
              "          document.querySelector('#df-a21fc19a-92cc-4065-b38f-3f774aff7223 button.colab-df-convert');\n",
              "        buttonEl.style.display =\n",
              "          google.colab.kernel.accessAllowed ? 'block' : 'none';\n",
              "\n",
              "        async function convertToInteractive(key) {\n",
              "          const element = document.querySelector('#df-a21fc19a-92cc-4065-b38f-3f774aff7223');\n",
              "          const dataTable =\n",
              "            await google.colab.kernel.invokeFunction('convertToInteractive',\n",
              "                                                     [key], {});\n",
              "          if (!dataTable) return;\n",
              "\n",
              "          const docLinkHtml = 'Like what you see? Visit the ' +\n",
              "            '<a target=\"_blank\" href=https://colab.research.google.com/notebooks/data_table.ipynb>data table notebook</a>'\n",
              "            + ' to learn more about interactive tables.';\n",
              "          element.innerHTML = '';\n",
              "          dataTable['output_type'] = 'display_data';\n",
              "          await google.colab.output.renderOutput(dataTable, element);\n",
              "          const docLink = document.createElement('div');\n",
              "          docLink.innerHTML = docLinkHtml;\n",
              "          element.appendChild(docLink);\n",
              "        }\n",
              "      </script>\n",
              "    </div>\n",
              "  </div>\n",
              "  "
            ]
          },
          "metadata": {},
          "execution_count": 42
        }
      ]
    },
    {
      "cell_type": "code",
      "source": [
        "# One-hot encode the target label\n",
        "data['sentiment'] = data['sentiment'].map({'positive':1, 'negative':0})\n",
        "\n",
        "# Drop the rating column\n",
        "data.drop(columns=['data/star_rating'], inplace=True)\n",
        "data.head()"
      ],
      "metadata": {
        "cell_id": "e48240a3cad94e3bb9c8c4ee5d79d1d5",
        "tags": [],
        "deepnote_to_be_reexecuted": true,
        "source_hash": "d88949b6",
        "execution_start": 1654259702649,
        "execution_millis": 6,
        "deepnote_cell_type": "code",
        "deepnote_cell_height": 485,
        "execution": {
          "iopub.status.busy": "2022-06-03T14:43:39.358176Z",
          "iopub.execute_input": "2022-06-03T14:43:39.358656Z",
          "iopub.status.idle": "2022-06-03T14:43:39.379166Z",
          "shell.execute_reply.started": "2022-06-03T14:43:39.358617Z",
          "shell.execute_reply": "2022-06-03T14:43:39.378320Z"
        },
        "trusted": true,
        "colab": {
          "base_uri": "https://localhost:8080/",
          "height": 206
        },
        "id": "vgNv6vuKaGSw",
        "outputId": "cf1cbd36-534e-420a-e6c9-d5c879db248c"
      },
      "execution_count": 43,
      "outputs": [
        {
          "output_type": "execute_result",
          "data": {
            "text/plain": [
              "                                        data/review_body  sentiment\n",
              "87666  b\"The motor spins and is not stationary. That ...          1\n",
              "47509                                            b'Fake'          0\n",
              "69877  b\"Even though there are finally some silicone ...          1\n",
              "11951  b\"Absolutely Wonderful:  This product is every...          1\n",
              "73562  b\"Love this Bluetooth speaker...easy setup, wo...          1"
            ],
            "text/html": [
              "\n",
              "  <div id=\"df-55476088-b817-4a3b-bc6c-cea8890b9995\">\n",
              "    <div class=\"colab-df-container\">\n",
              "      <div>\n",
              "<style scoped>\n",
              "    .dataframe tbody tr th:only-of-type {\n",
              "        vertical-align: middle;\n",
              "    }\n",
              "\n",
              "    .dataframe tbody tr th {\n",
              "        vertical-align: top;\n",
              "    }\n",
              "\n",
              "    .dataframe thead th {\n",
              "        text-align: right;\n",
              "    }\n",
              "</style>\n",
              "<table border=\"1\" class=\"dataframe\">\n",
              "  <thead>\n",
              "    <tr style=\"text-align: right;\">\n",
              "      <th></th>\n",
              "      <th>data/review_body</th>\n",
              "      <th>sentiment</th>\n",
              "    </tr>\n",
              "  </thead>\n",
              "  <tbody>\n",
              "    <tr>\n",
              "      <th>87666</th>\n",
              "      <td>b\"The motor spins and is not stationary. That ...</td>\n",
              "      <td>1</td>\n",
              "    </tr>\n",
              "    <tr>\n",
              "      <th>47509</th>\n",
              "      <td>b'Fake'</td>\n",
              "      <td>0</td>\n",
              "    </tr>\n",
              "    <tr>\n",
              "      <th>69877</th>\n",
              "      <td>b\"Even though there are finally some silicone ...</td>\n",
              "      <td>1</td>\n",
              "    </tr>\n",
              "    <tr>\n",
              "      <th>11951</th>\n",
              "      <td>b\"Absolutely Wonderful:  This product is every...</td>\n",
              "      <td>1</td>\n",
              "    </tr>\n",
              "    <tr>\n",
              "      <th>73562</th>\n",
              "      <td>b\"Love this Bluetooth speaker...easy setup, wo...</td>\n",
              "      <td>1</td>\n",
              "    </tr>\n",
              "  </tbody>\n",
              "</table>\n",
              "</div>\n",
              "      <button class=\"colab-df-convert\" onclick=\"convertToInteractive('df-55476088-b817-4a3b-bc6c-cea8890b9995')\"\n",
              "              title=\"Convert this dataframe to an interactive table.\"\n",
              "              style=\"display:none;\">\n",
              "        \n",
              "  <svg xmlns=\"http://www.w3.org/2000/svg\" height=\"24px\"viewBox=\"0 0 24 24\"\n",
              "       width=\"24px\">\n",
              "    <path d=\"M0 0h24v24H0V0z\" fill=\"none\"/>\n",
              "    <path d=\"M18.56 5.44l.94 2.06.94-2.06 2.06-.94-2.06-.94-.94-2.06-.94 2.06-2.06.94zm-11 1L8.5 8.5l.94-2.06 2.06-.94-2.06-.94L8.5 2.5l-.94 2.06-2.06.94zm10 10l.94 2.06.94-2.06 2.06-.94-2.06-.94-.94-2.06-.94 2.06-2.06.94z\"/><path d=\"M17.41 7.96l-1.37-1.37c-.4-.4-.92-.59-1.43-.59-.52 0-1.04.2-1.43.59L10.3 9.45l-7.72 7.72c-.78.78-.78 2.05 0 2.83L4 21.41c.39.39.9.59 1.41.59.51 0 1.02-.2 1.41-.59l7.78-7.78 2.81-2.81c.8-.78.8-2.07 0-2.86zM5.41 20L4 18.59l7.72-7.72 1.47 1.35L5.41 20z\"/>\n",
              "  </svg>\n",
              "      </button>\n",
              "      \n",
              "  <style>\n",
              "    .colab-df-container {\n",
              "      display:flex;\n",
              "      flex-wrap:wrap;\n",
              "      gap: 12px;\n",
              "    }\n",
              "\n",
              "    .colab-df-convert {\n",
              "      background-color: #E8F0FE;\n",
              "      border: none;\n",
              "      border-radius: 50%;\n",
              "      cursor: pointer;\n",
              "      display: none;\n",
              "      fill: #1967D2;\n",
              "      height: 32px;\n",
              "      padding: 0 0 0 0;\n",
              "      width: 32px;\n",
              "    }\n",
              "\n",
              "    .colab-df-convert:hover {\n",
              "      background-color: #E2EBFA;\n",
              "      box-shadow: 0px 1px 2px rgba(60, 64, 67, 0.3), 0px 1px 3px 1px rgba(60, 64, 67, 0.15);\n",
              "      fill: #174EA6;\n",
              "    }\n",
              "\n",
              "    [theme=dark] .colab-df-convert {\n",
              "      background-color: #3B4455;\n",
              "      fill: #D2E3FC;\n",
              "    }\n",
              "\n",
              "    [theme=dark] .colab-df-convert:hover {\n",
              "      background-color: #434B5C;\n",
              "      box-shadow: 0px 1px 3px 1px rgba(0, 0, 0, 0.15);\n",
              "      filter: drop-shadow(0px 1px 2px rgba(0, 0, 0, 0.3));\n",
              "      fill: #FFFFFF;\n",
              "    }\n",
              "  </style>\n",
              "\n",
              "      <script>\n",
              "        const buttonEl =\n",
              "          document.querySelector('#df-55476088-b817-4a3b-bc6c-cea8890b9995 button.colab-df-convert');\n",
              "        buttonEl.style.display =\n",
              "          google.colab.kernel.accessAllowed ? 'block' : 'none';\n",
              "\n",
              "        async function convertToInteractive(key) {\n",
              "          const element = document.querySelector('#df-55476088-b817-4a3b-bc6c-cea8890b9995');\n",
              "          const dataTable =\n",
              "            await google.colab.kernel.invokeFunction('convertToInteractive',\n",
              "                                                     [key], {});\n",
              "          if (!dataTable) return;\n",
              "\n",
              "          const docLinkHtml = 'Like what you see? Visit the ' +\n",
              "            '<a target=\"_blank\" href=https://colab.research.google.com/notebooks/data_table.ipynb>data table notebook</a>'\n",
              "            + ' to learn more about interactive tables.';\n",
              "          element.innerHTML = '';\n",
              "          dataTable['output_type'] = 'display_data';\n",
              "          await google.colab.output.renderOutput(dataTable, element);\n",
              "          const docLink = document.createElement('div');\n",
              "          docLink.innerHTML = docLinkHtml;\n",
              "          element.appendChild(docLink);\n",
              "        }\n",
              "      </script>\n",
              "    </div>\n",
              "  </div>\n",
              "  "
            ]
          },
          "metadata": {},
          "execution_count": 43
        }
      ]
    },
    {
      "cell_type": "code",
      "source": [
        "# Preprocess the reviews\n",
        "data.rename(columns={'data/review_body': 'review'}, inplace=True)\n",
        "data['review'] = data['review'].str.decode('utf-8')\n",
        "data['review'] = data[\"review\"].apply(str.lower)\n",
        "data['review']\n",
        "\n",
        "data.head()"
      ],
      "metadata": {
        "cell_id": "77478e61881a4aeeb2cddc4f8f035f5b",
        "tags": [],
        "deepnote_to_be_reexecuted": true,
        "source_hash": "a36c21ce",
        "execution_start": 1654259702675,
        "execution_millis": 147,
        "deepnote_cell_type": "code",
        "deepnote_cell_height": 503,
        "execution": {
          "iopub.status.busy": "2022-06-03T14:43:39.380500Z",
          "iopub.execute_input": "2022-06-03T14:43:39.380988Z",
          "iopub.status.idle": "2022-06-03T14:43:39.484468Z",
          "shell.execute_reply.started": "2022-06-03T14:43:39.380953Z",
          "shell.execute_reply": "2022-06-03T14:43:39.483652Z"
        },
        "trusted": true,
        "colab": {
          "base_uri": "https://localhost:8080/",
          "height": 206
        },
        "id": "gpzAchB7aGSx",
        "outputId": "f975152d-d1e9-4868-aaad-ae252a88dd02"
      },
      "execution_count": 44,
      "outputs": [
        {
          "output_type": "execute_result",
          "data": {
            "text/plain": [
              "                                                  review  sentiment\n",
              "87666  the motor spins and is not stationary. that se...          1\n",
              "47509                                               fake          0\n",
              "69877  even though there are finally some silicone ca...          1\n",
              "11951  absolutely wonderful:  this product is everyth...          1\n",
              "73562  love this bluetooth speaker...easy setup, wond...          1"
            ],
            "text/html": [
              "\n",
              "  <div id=\"df-d7e33a1d-e4d9-4c25-8b5e-80d225638eb9\">\n",
              "    <div class=\"colab-df-container\">\n",
              "      <div>\n",
              "<style scoped>\n",
              "    .dataframe tbody tr th:only-of-type {\n",
              "        vertical-align: middle;\n",
              "    }\n",
              "\n",
              "    .dataframe tbody tr th {\n",
              "        vertical-align: top;\n",
              "    }\n",
              "\n",
              "    .dataframe thead th {\n",
              "        text-align: right;\n",
              "    }\n",
              "</style>\n",
              "<table border=\"1\" class=\"dataframe\">\n",
              "  <thead>\n",
              "    <tr style=\"text-align: right;\">\n",
              "      <th></th>\n",
              "      <th>review</th>\n",
              "      <th>sentiment</th>\n",
              "    </tr>\n",
              "  </thead>\n",
              "  <tbody>\n",
              "    <tr>\n",
              "      <th>87666</th>\n",
              "      <td>the motor spins and is not stationary. that se...</td>\n",
              "      <td>1</td>\n",
              "    </tr>\n",
              "    <tr>\n",
              "      <th>47509</th>\n",
              "      <td>fake</td>\n",
              "      <td>0</td>\n",
              "    </tr>\n",
              "    <tr>\n",
              "      <th>69877</th>\n",
              "      <td>even though there are finally some silicone ca...</td>\n",
              "      <td>1</td>\n",
              "    </tr>\n",
              "    <tr>\n",
              "      <th>11951</th>\n",
              "      <td>absolutely wonderful:  this product is everyth...</td>\n",
              "      <td>1</td>\n",
              "    </tr>\n",
              "    <tr>\n",
              "      <th>73562</th>\n",
              "      <td>love this bluetooth speaker...easy setup, wond...</td>\n",
              "      <td>1</td>\n",
              "    </tr>\n",
              "  </tbody>\n",
              "</table>\n",
              "</div>\n",
              "      <button class=\"colab-df-convert\" onclick=\"convertToInteractive('df-d7e33a1d-e4d9-4c25-8b5e-80d225638eb9')\"\n",
              "              title=\"Convert this dataframe to an interactive table.\"\n",
              "              style=\"display:none;\">\n",
              "        \n",
              "  <svg xmlns=\"http://www.w3.org/2000/svg\" height=\"24px\"viewBox=\"0 0 24 24\"\n",
              "       width=\"24px\">\n",
              "    <path d=\"M0 0h24v24H0V0z\" fill=\"none\"/>\n",
              "    <path d=\"M18.56 5.44l.94 2.06.94-2.06 2.06-.94-2.06-.94-.94-2.06-.94 2.06-2.06.94zm-11 1L8.5 8.5l.94-2.06 2.06-.94-2.06-.94L8.5 2.5l-.94 2.06-2.06.94zm10 10l.94 2.06.94-2.06 2.06-.94-2.06-.94-.94-2.06-.94 2.06-2.06.94z\"/><path d=\"M17.41 7.96l-1.37-1.37c-.4-.4-.92-.59-1.43-.59-.52 0-1.04.2-1.43.59L10.3 9.45l-7.72 7.72c-.78.78-.78 2.05 0 2.83L4 21.41c.39.39.9.59 1.41.59.51 0 1.02-.2 1.41-.59l7.78-7.78 2.81-2.81c.8-.78.8-2.07 0-2.86zM5.41 20L4 18.59l7.72-7.72 1.47 1.35L5.41 20z\"/>\n",
              "  </svg>\n",
              "      </button>\n",
              "      \n",
              "  <style>\n",
              "    .colab-df-container {\n",
              "      display:flex;\n",
              "      flex-wrap:wrap;\n",
              "      gap: 12px;\n",
              "    }\n",
              "\n",
              "    .colab-df-convert {\n",
              "      background-color: #E8F0FE;\n",
              "      border: none;\n",
              "      border-radius: 50%;\n",
              "      cursor: pointer;\n",
              "      display: none;\n",
              "      fill: #1967D2;\n",
              "      height: 32px;\n",
              "      padding: 0 0 0 0;\n",
              "      width: 32px;\n",
              "    }\n",
              "\n",
              "    .colab-df-convert:hover {\n",
              "      background-color: #E2EBFA;\n",
              "      box-shadow: 0px 1px 2px rgba(60, 64, 67, 0.3), 0px 1px 3px 1px rgba(60, 64, 67, 0.15);\n",
              "      fill: #174EA6;\n",
              "    }\n",
              "\n",
              "    [theme=dark] .colab-df-convert {\n",
              "      background-color: #3B4455;\n",
              "      fill: #D2E3FC;\n",
              "    }\n",
              "\n",
              "    [theme=dark] .colab-df-convert:hover {\n",
              "      background-color: #434B5C;\n",
              "      box-shadow: 0px 1px 3px 1px rgba(0, 0, 0, 0.15);\n",
              "      filter: drop-shadow(0px 1px 2px rgba(0, 0, 0, 0.3));\n",
              "      fill: #FFFFFF;\n",
              "    }\n",
              "  </style>\n",
              "\n",
              "      <script>\n",
              "        const buttonEl =\n",
              "          document.querySelector('#df-d7e33a1d-e4d9-4c25-8b5e-80d225638eb9 button.colab-df-convert');\n",
              "        buttonEl.style.display =\n",
              "          google.colab.kernel.accessAllowed ? 'block' : 'none';\n",
              "\n",
              "        async function convertToInteractive(key) {\n",
              "          const element = document.querySelector('#df-d7e33a1d-e4d9-4c25-8b5e-80d225638eb9');\n",
              "          const dataTable =\n",
              "            await google.colab.kernel.invokeFunction('convertToInteractive',\n",
              "                                                     [key], {});\n",
              "          if (!dataTable) return;\n",
              "\n",
              "          const docLinkHtml = 'Like what you see? Visit the ' +\n",
              "            '<a target=\"_blank\" href=https://colab.research.google.com/notebooks/data_table.ipynb>data table notebook</a>'\n",
              "            + ' to learn more about interactive tables.';\n",
              "          element.innerHTML = '';\n",
              "          dataTable['output_type'] = 'display_data';\n",
              "          await google.colab.output.renderOutput(dataTable, element);\n",
              "          const docLink = document.createElement('div');\n",
              "          docLink.innerHTML = docLinkHtml;\n",
              "          element.appendChild(docLink);\n",
              "        }\n",
              "      </script>\n",
              "    </div>\n",
              "  </div>\n",
              "  "
            ]
          },
          "metadata": {},
          "execution_count": 44
        }
      ]
    },
    {
      "cell_type": "code",
      "source": [
        "# Check the samples per class\n",
        "data['sentiment'].value_counts()"
      ],
      "metadata": {
        "cell_id": "02b71411becf4c469da3ad4ceb68fbb5",
        "tags": [],
        "deepnote_to_be_reexecuted": true,
        "source_hash": "18e7352e",
        "execution_start": 1654259702825,
        "execution_millis": 8,
        "deepnote_cell_type": "code",
        "deepnote_cell_height": 174.5625,
        "deepnote_output_heights": [
          59.5625
        ],
        "execution": {
          "iopub.status.busy": "2022-06-03T14:43:39.485831Z",
          "iopub.execute_input": "2022-06-03T14:43:39.486196Z",
          "iopub.status.idle": "2022-06-03T14:43:39.493511Z",
          "shell.execute_reply.started": "2022-06-03T14:43:39.486160Z",
          "shell.execute_reply": "2022-06-03T14:43:39.492440Z"
        },
        "trusted": true,
        "colab": {
          "base_uri": "https://localhost:8080/"
        },
        "id": "Et7TLQELaGSx",
        "outputId": "b90bc6a3-6a3c-4e17-f091-83ca6b012260"
      },
      "execution_count": 45,
      "outputs": [
        {
          "output_type": "execute_result",
          "data": {
            "text/plain": [
              "1    24067\n",
              "0     7425\n",
              "Name: sentiment, dtype: int64"
            ]
          },
          "metadata": {},
          "execution_count": 45
        }
      ]
    },
    {
      "cell_type": "code",
      "source": [
        "# Balance out the classes for the purpose of demonstration\n",
        "positive = data[data['sentiment'] == 1].sample(n=7425, random_state=42)\n",
        "negative = data[data['sentiment'] == 0]\n",
        "train_data = pd.concat([positive, negative]).sample(frac=1).reset_index(drop=True)\n",
        "train_data['sentiment'].value_counts()"
      ],
      "metadata": {
        "colab": {
          "base_uri": "https://localhost:8080/"
        },
        "id": "_yj1ZzzVxQzg",
        "outputId": "fffcc156-1b79-46c0-ce4c-d5b605e81e3f"
      },
      "execution_count": 46,
      "outputs": [
        {
          "output_type": "execute_result",
          "data": {
            "text/plain": [
              "0    7425\n",
              "1    7425\n",
              "Name: sentiment, dtype: int64"
            ]
          },
          "metadata": {},
          "execution_count": 46
        }
      ]
    },
    {
      "cell_type": "code",
      "source": [
        "# Sample reviews and its corresponding labels\n",
        "reviews = train_data['review'].tolist()\n",
        "labels = train_data['sentiment'].tolist()\n",
        "\n",
        "print(\"Sample reviews:\")\n",
        "print(reviews[10:16])\n",
        "print(\"Corresponding labels:\")\n",
        "print(labels[10:16])"
      ],
      "metadata": {
        "cell_id": "37c461bdb1b948448a0d925d31fb5a02",
        "tags": [],
        "deepnote_to_be_reexecuted": true,
        "source_hash": "97707d3f",
        "execution_start": 1654259702838,
        "execution_millis": 7,
        "deepnote_cell_type": "code",
        "deepnote_cell_height": 302.75,
        "execution": {
          "iopub.status.busy": "2022-06-03T14:43:39.495400Z",
          "iopub.execute_input": "2022-06-03T14:43:39.496067Z",
          "iopub.status.idle": "2022-06-03T14:43:39.505695Z",
          "shell.execute_reply.started": "2022-06-03T14:43:39.496026Z",
          "shell.execute_reply": "2022-06-03T14:43:39.504828Z"
        },
        "trusted": true,
        "colab": {
          "base_uri": "https://localhost:8080/"
        },
        "id": "4dgVVGwoaGSy",
        "outputId": "ca218093-fcf2-4dac-d301-cd558de92cea"
      },
      "execution_count": 47,
      "outputs": [
        {
          "output_type": "stream",
          "name": "stdout",
          "text": [
            "Sample reviews:\n",
            "['was a little leery of this when i purchased.  the price was very low and i had never heard of the brand.  it is for my wife\\'s new nano 5th generation, and she wanted one with a sturdy clip on the case.  the ones with clips turned out to be harder to find than i thought unless you wanted one that was an armband.  ordered the \\\\\\\\\"hot pink flip\\\\\\\\\" case....to match the hot pink nano.  case arrived within 4 days.  it seems very well made and the screen protector makes the $6.95 price tag a real bargain.  it fits the 5th gen nano perfectly.  the video camera has a perfectly placed cutout, and the clip is quite sturdy.  don\\'t hesitate if you are considering this one.....very happy with it.', 'great case for my new nook.  i had no problems turning pages or turning on and off.  i love it.', 'they do not work. i ordered the right pair for my model. i would like to replace them for a working pair.', 'the uniden bct8 trunking scanner took away all the frustration i had attempting to setup two different radio shack scanners. first i purchased the new pro-107 iscan trunking scanner and was not able to get it programmed to receive a simple edacs scat system. i took it back to radio shack and exchanged it for the pro-164 and still, it would not receive the edacs scat system of my local police. i contacted about 7 different radio shacks and no one could offer any assistance so i returned the pro-164. both the radio shack scanners advertise easy of operation!  run as fast and as far from the radio shack store as you can, then go buy a bearcat scanner and have some fun.  i received the bct8 trunking scanner and within less then 10 minutes, following very simple instructions, was listening to the edacs scat frequency of my local police. the audio quality is excellent and i would recommend this product to everyone.  i am also very pleased with the excellent service i receive each and every time i make a purchase from amazon!   thanks  dave', \"don't waste your money. i've had this armband since december and the velcro has come unglued on several places of the band. i've had to reglue it twice, i just came online to order another one because i am so unhappy with this one.\", \"i chose this product for protecting the front and back of the itouch.  i like the look and the protection.  i have bought a frogz boost to enhance the volume of the itouch.  when i have the cover on and use the boost the sound is reduced and/or crackles.  the thing in which i'm most disappointed is that there is no opening for either the charger or camera.  so to use either you must remove the itouch  from the cover.  the good news is that it is easy to remove since you will be charging regularly.\"]\n",
            "Corresponding labels:\n",
            "[1, 1, 0, 1, 0, 1]\n"
          ]
        }
      ]
    },
    {
      "cell_type": "code",
      "source": [
        "# Split the data into train, test and vvalidation split\n",
        "from sklearn.model_selection import train_test_split\n",
        "X_train, X_test, y_train, y_test  = train_test_split(reviews, labels, test_size=.2, random_state=42)"
      ],
      "metadata": {
        "cell_id": "fecba18e0ba249c7a564220e86509f78",
        "tags": [],
        "deepnote_to_be_reexecuted": true,
        "source_hash": "89a79b7c",
        "execution_start": 1654259702894,
        "execution_millis": 651,
        "deepnote_cell_type": "code",
        "deepnote_cell_height": 117,
        "execution": {
          "iopub.status.busy": "2022-06-03T14:43:39.507263Z",
          "iopub.execute_input": "2022-06-03T14:43:39.507932Z",
          "iopub.status.idle": "2022-06-03T14:43:40.085711Z",
          "shell.execute_reply.started": "2022-06-03T14:43:39.507891Z",
          "shell.execute_reply": "2022-06-03T14:43:40.084923Z"
        },
        "trusted": true,
        "id": "GUbD2wwgaGSy"
      },
      "execution_count": 48,
      "outputs": []
    },
    {
      "cell_type": "code",
      "source": [
        "# Number of train and test data\n",
        "print(\"Number of train data points:\", len(X_train))\n",
        "print(\"Number of train labels:\", len(y_train))\n",
        "print(\"Number of test data points:\", len(X_test))\n",
        "print(\"Number of test labels:\", len(y_test))"
      ],
      "metadata": {
        "cell_id": "6ef60bb9e24848ea9f57ff10b99ae679",
        "tags": [],
        "deepnote_to_be_reexecuted": true,
        "source_hash": "1bcb2550",
        "execution_start": 1654259703552,
        "execution_millis": 171,
        "deepnote_cell_type": "code",
        "deepnote_cell_height": 244.75,
        "execution": {
          "iopub.status.busy": "2022-06-03T14:43:40.087135Z",
          "iopub.execute_input": "2022-06-03T14:43:40.087529Z",
          "iopub.status.idle": "2022-06-03T14:43:40.093330Z",
          "shell.execute_reply.started": "2022-06-03T14:43:40.087494Z",
          "shell.execute_reply": "2022-06-03T14:43:40.092390Z"
        },
        "trusted": true,
        "colab": {
          "base_uri": "https://localhost:8080/"
        },
        "id": "xmT07OMxaGSy",
        "outputId": "220a15d9-2aed-43d0-f62a-850375bb9c16"
      },
      "execution_count": 49,
      "outputs": [
        {
          "output_type": "stream",
          "name": "stdout",
          "text": [
            "Number of train data points: 11880\n",
            "Number of train labels: 11880\n",
            "Number of test data points: 2970\n",
            "Number of test labels: 2970\n"
          ]
        }
      ]
    },
    {
      "cell_type": "code",
      "source": [
        "# Load the tokenizer\n",
        "from transformers import DistilBertTokenizerFast\n",
        "MODEL_NAME = 'distilbert-base-uncased-finetuned-sst-2-english'\n",
        "tokenizer = DistilBertTokenizerFast.from_pretrained(MODEL_NAME)"
      ],
      "metadata": {
        "cell_id": "d218bdfa1bf64000af827ed9e67d542c",
        "tags": [],
        "deepnote_to_be_reexecuted": true,
        "source_hash": "c42b759f",
        "execution_start": 1654259703596,
        "execution_millis": 3079,
        "deepnote_cell_type": "code",
        "deepnote_cell_height": 117,
        "execution": {
          "iopub.status.busy": "2022-06-03T14:43:40.127440Z",
          "iopub.execute_input": "2022-06-03T14:43:40.127696Z",
          "iopub.status.idle": "2022-06-03T14:43:54.233200Z",
          "shell.execute_reply.started": "2022-06-03T14:43:40.127672Z",
          "shell.execute_reply": "2022-06-03T14:43:54.232335Z"
        },
        "trusted": true,
        "id": "inWvDL2CaGSz",
        "colab": {
          "base_uri": "https://localhost:8080/",
          "height": 113,
          "referenced_widgets": [
            "09129e1d924044c6abcb19d5f35d8e04",
            "bc87179bb2f0448da7ee2c7ddb7975c5",
            "d8a5f15e3ed6407ab019d83c4075c335",
            "f60ecd92c7ff4004a97f87e111c53c6a",
            "8272850702164f9591d4a496e152186b",
            "7af7cdf94506482390ae5b03b69763e6",
            "4e56e4ad3e0240609975aa5c248ef37d",
            "6bb92e8c9c0c4716bea1bedcd9b6f313",
            "29b339b7034f45e89c511d4e2cba694c",
            "75e78c7ec65f4857920c33910ac92b95",
            "63ffb7982c5c4a368264282cc2f1dd4a",
            "1d6cf94171d647118b15aedaafdad815",
            "ef50259581f64ba5ae036bf42238266f",
            "3cc3273835604871a218c09f05236456",
            "03d690036596412092c76a151d50899a",
            "e84459f854f047f7a3e2c864b7c02a9a",
            "d8e463c1eda34ebbab7281cf719057ad",
            "af8799a5603347c5912a16ead35c1d01",
            "cb48597ee91c4ac4a0f4b740d98109a9",
            "9afe9adfa3f54ae1ba374e677ad2ee2f",
            "bc17e17e15214639befd29a67490f126",
            "57200ea75226426cae8eb5e4ecd1ffb7",
            "3f394890031440a0a16f88ce54082368",
            "0c442537538d42b5bed46217a3a4bd32",
            "1f9af89d54364ff4b920e84bb8b93999",
            "d0cbb3d19c7c4bcabb7eb482700a4731",
            "a6aba46e22d14bf1b00604f6a899a588",
            "0ac2ea08da344943bcb424276e90158a",
            "6337cc2e957a48c491ce56e9b132a1a8",
            "ac8f67bafefe498c815b5da86de722ff",
            "8c8965d9ce2a4665a6134f258bd1c0e1",
            "e4e6b936066a4f94ac46d7930d40494b",
            "632230f3984f453a981b101931d340aa"
          ]
        },
        "outputId": "74d9ef61-40a2-4afe-e4ff-f0c2eb7454c9"
      },
      "execution_count": 50,
      "outputs": [
        {
          "output_type": "display_data",
          "data": {
            "text/plain": [
              "Downloading (…)okenizer_config.json:   0%|          | 0.00/48.0 [00:00<?, ?B/s]"
            ],
            "application/vnd.jupyter.widget-view+json": {
              "version_major": 2,
              "version_minor": 0,
              "model_id": "09129e1d924044c6abcb19d5f35d8e04"
            }
          },
          "metadata": {}
        },
        {
          "output_type": "display_data",
          "data": {
            "text/plain": [
              "Downloading (…)solve/main/vocab.txt:   0%|          | 0.00/232k [00:00<?, ?B/s]"
            ],
            "application/vnd.jupyter.widget-view+json": {
              "version_major": 2,
              "version_minor": 0,
              "model_id": "1d6cf94171d647118b15aedaafdad815"
            }
          },
          "metadata": {}
        },
        {
          "output_type": "display_data",
          "data": {
            "text/plain": [
              "Downloading (…)lve/main/config.json:   0%|          | 0.00/629 [00:00<?, ?B/s]"
            ],
            "application/vnd.jupyter.widget-view+json": {
              "version_major": 2,
              "version_minor": 0,
              "model_id": "3f394890031440a0a16f88ce54082368"
            }
          },
          "metadata": {}
        }
      ]
    },
    {
      "cell_type": "code",
      "source": [
        "# Sample tokenization\n",
        "print(\"Sentence:\" , X_train[0])\n",
        "tokenizer(X_train[0], truncation=True, padding=True, max_length=256, return_tensors=\"tf\")"
      ],
      "metadata": {
        "cell_id": "75423f331a4c454e82dbdcd0a0cabe80",
        "tags": [],
        "deepnote_to_be_reexecuted": true,
        "source_hash": "8aaf950d",
        "execution_start": 1654259706685,
        "execution_millis": 15,
        "deepnote_cell_type": "code",
        "deepnote_cell_height": 204.375,
        "deepnote_output_heights": [
          null,
          21.1875
        ],
        "execution": {
          "iopub.status.busy": "2022-06-03T16:28:22.734156Z",
          "iopub.execute_input": "2022-06-03T16:28:22.734833Z",
          "iopub.status.idle": "2022-06-03T16:28:22.744489Z",
          "shell.execute_reply.started": "2022-06-03T16:28:22.734796Z",
          "shell.execute_reply": "2022-06-03T16:28:22.743348Z"
        },
        "trusted": true,
        "colab": {
          "base_uri": "https://localhost:8080/"
        },
        "id": "91uqp_iLaGSz",
        "outputId": "ee73f590-ba73-418d-9413-b45f26b0fb00"
      },
      "execution_count": 51,
      "outputs": [
        {
          "output_type": "stream",
          "name": "stdout",
          "text": [
            "Sentence: outstanding replacement lcd.  followed the online video instruction and saved our nuvi 2455 from the trash heap.\n"
          ]
        },
        {
          "output_type": "execute_result",
          "data": {
            "text/plain": [
              "{'input_ids': <tf.Tensor: shape=(1, 23), dtype=int32, numpy=\n",
              "array([[  101,  5151,  6110, 27662,  1012,  2628,  1996,  3784,  2678,\n",
              "         7899,  1998,  5552,  2256, 16371,  5737, 21005,  2629,  2013,\n",
              "         1996, 11669, 16721,  1012,   102]], dtype=int32)>, 'attention_mask': <tf.Tensor: shape=(1, 23), dtype=int32, numpy=\n",
              "array([[1, 1, 1, 1, 1, 1, 1, 1, 1, 1, 1, 1, 1, 1, 1, 1, 1, 1, 1, 1, 1, 1,\n",
              "        1]], dtype=int32)>}"
            ]
          },
          "metadata": {},
          "execution_count": 51
        }
      ]
    },
    {
      "cell_type": "code",
      "source": [
        "# Perform tokenization\n",
        "MAX_LENGTH=256\n",
        "train_encodings = tokenizer(X_train,\n",
        "                            truncation=True, \n",
        "                            padding=True,\n",
        "                            return_tensors=\"tf\",\n",
        "                            max_length=MAX_LENGTH)\n",
        "test_encodings = tokenizer(X_test,\n",
        "                           truncation=True, \n",
        "                           padding=True,\n",
        "                           return_tensors=\"tf\",\n",
        "                           max_length=MAX_LENGTH)"
      ],
      "metadata": {
        "cell_id": "7ac6083695284846af8046a602fde8a3",
        "tags": [],
        "deepnote_to_be_reexecuted": true,
        "source_hash": "e4214f64",
        "execution_start": 1654259706706,
        "execution_millis": 17902,
        "deepnote_cell_type": "code",
        "deepnote_cell_height": 189,
        "execution": {
          "iopub.status.busy": "2022-06-03T16:28:34.382817Z",
          "iopub.execute_input": "2022-06-03T16:28:34.383197Z",
          "iopub.status.idle": "2022-06-03T16:28:52.757481Z",
          "shell.execute_reply.started": "2022-06-03T16:28:34.383166Z",
          "shell.execute_reply": "2022-06-03T16:28:52.756567Z"
        },
        "trusted": true,
        "id": "hMdu1ivBaGSz"
      },
      "execution_count": 52,
      "outputs": []
    },
    {
      "cell_type": "code",
      "source": [
        "# Convert the tokenizer to TF object\n",
        "train_dataset = tf.data.Dataset.from_tensor_slices((dict(train_encodings),\n",
        "                                                    y_train))\n",
        "test_dataset = tf.data.Dataset.from_tensor_slices((dict(test_encodings),\n",
        "                                                   y_test))"
      ],
      "metadata": {
        "cell_id": "da58f1be78eb4392989e82963c129190",
        "tags": [],
        "deepnote_to_be_reexecuted": true,
        "source_hash": "9cda9294",
        "execution_start": 1654259724621,
        "execution_millis": 33,
        "deepnote_cell_type": "code",
        "deepnote_cell_height": 442.5625,
        "deepnote_output_heights": [
          40.375
        ],
        "execution": {
          "iopub.status.busy": "2022-06-03T16:29:05.729632Z",
          "iopub.execute_input": "2022-06-03T16:29:05.730007Z"
        },
        "trusted": true,
        "id": "5AEqYmp_aGS0"
      },
      "execution_count": 53,
      "outputs": []
    },
    {
      "cell_type": "markdown",
      "source": [
        "### Stage 4: Build, train and evaluate the model\n",
        "\n",
        "For the purpose of demonstration, transfer learning is used for building the model for the sentiment analysis task at hand. We'll be using a pretrained distilbert model that's finetuned on SST-2 (Stanford Sentiment Treebank v2) dataset. More details on the model can be found here: https://huggingface.co/distilbert-base-uncased-finetuned-sst-2-english\n",
        "\n",
        "The following key parameters need to be thought through before we build any model,\n",
        "\n",
        "- **Metric:** How do we measure the performance of the model? What should be the right metric? - Accuracy can be used here.\n",
        "\n",
        "- **Loss function:** It is the objective function that is learned during training. And a good model should always try to minimize the loss function. For classification problems, cross-entropy loss can be used as the objective or loss function.\n",
        "\n",
        "- **Optimizer:** A function that decides how the network weights will be updated based on the output of the loss function."
      ],
      "metadata": {
        "cell_id": "2dc8f9b0b65c455fb55d67e3d05b1972",
        "tags": [],
        "deepnote_cell_type": "markdown",
        "deepnote_cell_height": 394.6875,
        "id": "NE8pCep9aGS0"
      }
    },
    {
      "cell_type": "code",
      "source": [
        "# Define the model - use pretrained distilbert model and specify the label\n",
        "from transformers import TFDistilBertForSequenceClassification\n",
        "model = TFDistilBertForSequenceClassification.from_pretrained(\n",
        "    pretrained_model_name_or_path=MODEL_NAME,\n",
        "    num_labels=2\n",
        "    )"
      ],
      "metadata": {
        "cell_id": "65fbc89f372d46158b6191817b7e3f26",
        "tags": [],
        "deepnote_to_be_reexecuted": true,
        "source_hash": "7b7524c1",
        "execution_start": 1654259014228,
        "execution_millis": 115,
        "deepnote_cell_type": "code",
        "deepnote_cell_height": 253.375,
        "deepnote_output_heights": [
          21.1875
        ],
        "execution": {
          "iopub.status.busy": "2022-06-03T14:50:28.065450Z",
          "iopub.execute_input": "2022-06-03T14:50:28.066119Z",
          "iopub.status.idle": "2022-06-03T14:51:02.137919Z",
          "shell.execute_reply.started": "2022-06-03T14:50:28.066082Z",
          "shell.execute_reply": "2022-06-03T14:51:02.137129Z"
        },
        "trusted": true,
        "colab": {
          "base_uri": "https://localhost:8080/",
          "height": 138,
          "referenced_widgets": [
            "a923e5a4073040b5a9c011999c4a6be9",
            "9276f8ac371f4f6595897bbc4f6683fa",
            "0b7de8c6ff9f422297fede705b5ddbf7",
            "0f5a1d4e3396411e90408b919e1d1632",
            "9a465725b7cb472eb88b9f9a53681ee2",
            "db8a74b30e9e42f8ac410da8cb340cee",
            "88eb78be8aac47989aa3e74d0585b2af",
            "030401f242974d7db3f05628c6062d88",
            "f96eb3581c184ada9227fd92cc01f11f",
            "64a12e1956ba497b9a55d22bce48fc99",
            "093b006c685a4db9962ed92c1053e21a"
          ]
        },
        "id": "_UXhAsaDaGS0",
        "outputId": "36d1a164-0f8e-4164-be49-77838d0a8174"
      },
      "execution_count": 54,
      "outputs": [
        {
          "output_type": "display_data",
          "data": {
            "text/plain": [
              "Downloading tf_model.h5:   0%|          | 0.00/268M [00:00<?, ?B/s]"
            ],
            "application/vnd.jupyter.widget-view+json": {
              "version_major": 2,
              "version_minor": 0,
              "model_id": "a923e5a4073040b5a9c011999c4a6be9"
            }
          },
          "metadata": {}
        },
        {
          "output_type": "stream",
          "name": "stderr",
          "text": [
            "All model checkpoint layers were used when initializing TFDistilBertForSequenceClassification.\n",
            "\n",
            "All the layers of TFDistilBertForSequenceClassification were initialized from the model checkpoint at distilbert-base-uncased-finetuned-sst-2-english.\n",
            "If your task is similar to the task the model of the checkpoint was trained on, you can already use TFDistilBertForSequenceClassification for predictions without further training.\n"
          ]
        }
      ]
    },
    {
      "cell_type": "code",
      "source": [
        "# Specify the model optimizer\n",
        "optimizer = tf.keras.optimizers.Adam(\n",
        "            learning_rate=5e-5, \n",
        "        )"
      ],
      "metadata": {
        "cell_id": "7e05e95a3608438fb9bcf50daf4a2d47",
        "tags": [],
        "deepnote_to_be_reexecuted": false,
        "source_hash": "8e3a4d6b",
        "execution_start": 1654260394670,
        "execution_millis": 3,
        "deepnote_cell_type": "code",
        "deepnote_cell_height": 216.1875,
        "execution": {
          "iopub.status.busy": "2022-06-03T16:16:11.195586Z",
          "iopub.execute_input": "2022-06-03T16:16:11.195951Z",
          "iopub.status.idle": "2022-06-03T16:16:11.201815Z",
          "shell.execute_reply.started": "2022-06-03T16:16:11.195915Z",
          "shell.execute_reply": "2022-06-03T16:16:11.200727Z"
        },
        "trusted": true,
        "id": "U3S3aqvjaGS1"
      },
      "execution_count": 55,
      "outputs": []
    },
    {
      "cell_type": "code",
      "source": [
        "# Specify the loss function\n",
        "loss_func = tf.keras.losses.SparseCategoricalCrossentropy(from_logits=True)"
      ],
      "metadata": {
        "execution": {
          "iopub.status.busy": "2022-06-03T16:16:11.203340Z",
          "iopub.execute_input": "2022-06-03T16:16:11.203843Z",
          "iopub.status.idle": "2022-06-03T16:16:11.211510Z",
          "shell.execute_reply.started": "2022-06-03T16:16:11.203806Z",
          "shell.execute_reply": "2022-06-03T16:16:11.210722Z"
        },
        "trusted": true,
        "id": "OlO4RmHyaGS1"
      },
      "execution_count": 56,
      "outputs": []
    },
    {
      "cell_type": "code",
      "source": [
        "# Compile the model\n",
        "\n",
        "model.compile(optimizer=optimizer, loss=loss_func, metrics=['accuracy'])"
      ],
      "metadata": {
        "cell_id": "6c5e15de4c8e417d844e6c203e7be437",
        "tags": [],
        "owner_user_id": "17c7069a-3ae4-462e-9968-cf72643aef7c",
        "deepnote_cell_type": "code",
        "deepnote_cell_height": 138,
        "execution": {
          "iopub.status.busy": "2022-06-03T16:16:11.213719Z",
          "iopub.execute_input": "2022-06-03T16:16:11.214124Z",
          "iopub.status.idle": "2022-06-03T16:16:11.225862Z",
          "shell.execute_reply.started": "2022-06-03T16:16:11.214083Z",
          "shell.execute_reply": "2022-06-03T16:16:11.225020Z"
        },
        "trusted": true,
        "id": "3rzRu5HuaGS1"
      },
      "execution_count": 57,
      "outputs": []
    },
    {
      "cell_type": "code",
      "source": [
        "# Inspect the model\n",
        "model.summary()"
      ],
      "metadata": {
        "execution": {
          "iopub.status.busy": "2022-06-03T16:16:11.227451Z",
          "iopub.execute_input": "2022-06-03T16:16:11.227864Z",
          "iopub.status.idle": "2022-06-03T16:16:11.242415Z",
          "shell.execute_reply.started": "2022-06-03T16:16:11.227802Z",
          "shell.execute_reply": "2022-06-03T16:16:11.241397Z"
        },
        "trusted": true,
        "colab": {
          "base_uri": "https://localhost:8080/"
        },
        "id": "PLOxkvJ4aGS1",
        "outputId": "f5395ec9-5e52-4d91-9b81-ff56cd27da55"
      },
      "execution_count": 58,
      "outputs": [
        {
          "output_type": "stream",
          "name": "stdout",
          "text": [
            "Model: \"tf_distil_bert_for_sequence_classification\"\n",
            "_________________________________________________________________\n",
            " Layer (type)                Output Shape              Param #   \n",
            "=================================================================\n",
            " distilbert (TFDistilBertMai  multiple                 66362880  \n",
            " nLayer)                                                         \n",
            "                                                                 \n",
            " pre_classifier (Dense)      multiple                  590592    \n",
            "                                                                 \n",
            " classifier (Dense)          multiple                  1538      \n",
            "                                                                 \n",
            " dropout_19 (Dropout)        multiple                  0         \n",
            "                                                                 \n",
            "=================================================================\n",
            "Total params: 66,955,010\n",
            "Trainable params: 66,955,010\n",
            "Non-trainable params: 0\n",
            "_________________________________________________________________\n"
          ]
        }
      ]
    },
    {
      "cell_type": "code",
      "source": [
        "# Define hyperparameters\n",
        "BATCH_SIZE = 16\n",
        "NUM_EPOCHS = 2\n",
        "\n",
        "# Train the model\n",
        "model.fit(train_dataset.shuffle(len(X_train)).batch(BATCH_SIZE),\n",
        "          epochs=NUM_EPOCHS,\n",
        "          batch_size=BATCH_SIZE,\n",
        "          validation_data=test_dataset.shuffle(len(X_test)).batch(BATCH_SIZE)\n",
        "          )"
      ],
      "metadata": {
        "execution": {
          "iopub.status.busy": "2022-06-03T16:16:11.243877Z",
          "iopub.execute_input": "2022-06-03T16:16:11.244237Z",
          "iopub.status.idle": "2022-06-03T16:16:13.107784Z",
          "shell.execute_reply.started": "2022-06-03T16:16:11.244202Z",
          "shell.execute_reply": "2022-06-03T16:16:13.105629Z"
        },
        "trusted": true,
        "colab": {
          "base_uri": "https://localhost:8080/"
        },
        "id": "L16zkwEIaGS2",
        "outputId": "5613a7b8-13eb-4c50-8d68-1de24b9c1fc6"
      },
      "execution_count": 59,
      "outputs": [
        {
          "output_type": "stream",
          "name": "stdout",
          "text": [
            "Epoch 1/2\n",
            "743/743 [==============================] - 374s 455ms/step - loss: 0.2691 - accuracy: 0.8922 - val_loss: 0.2588 - val_accuracy: 0.8933\n",
            "Epoch 2/2\n",
            "743/743 [==============================] - 341s 460ms/step - loss: 0.1482 - accuracy: 0.9455 - val_loss: 0.2661 - val_accuracy: 0.9054\n"
          ]
        },
        {
          "output_type": "execute_result",
          "data": {
            "text/plain": [
              "<keras.callbacks.History at 0x7fde25449750>"
            ]
          },
          "metadata": {},
          "execution_count": 59
        }
      ]
    },
    {
      "cell_type": "code",
      "source": [
        "# Save the model\n",
        "model.save_pretrained(\"/tmp/sentiment_model\")"
      ],
      "metadata": {
        "id": "D1RDYTAEEykP"
      },
      "execution_count": 60,
      "outputs": []
    },
    {
      "cell_type": "code",
      "source": [
        "# Preprocess the unseen data\n",
        "unseen_data = data.sample(frac=0.05, random_state=42)\n",
        "unseen_reviews = unseen_data['review'].tolist()\n",
        "\n",
        "unseen_encodings = tokenizer(unseen_reviews,\n",
        "                            padding=True,\n",
        "                            truncation=True,\n",
        "                            max_length=MAX_LENGTH,\n",
        "                            return_tensors=\"tf\")\n",
        "\n",
        "y_unseen = unseen_data['sentiment'].tolist()\n",
        "\n",
        "unseen_encodings = tf.data.Dataset.from_tensor_slices((dict(unseen_encodings),\n",
        "                                                       y_unseen\n",
        "                                                      ))\n"
      ],
      "metadata": {
        "execution": {
          "iopub.status.busy": "2022-06-03T14:49:05.560124Z",
          "iopub.status.idle": "2022-06-03T14:49:05.560747Z",
          "shell.execute_reply.started": "2022-06-03T14:49:05.560505Z",
          "shell.execute_reply": "2022-06-03T14:49:05.560529Z"
        },
        "trusted": true,
        "id": "-F_xrMSAaGS2"
      },
      "execution_count": 61,
      "outputs": []
    },
    {
      "cell_type": "code",
      "source": [
        "# Evaluate the model\n",
        "model.evaluate(unseen_encodings.shuffle(len(unseen_reviews)).batch(BATCH_SIZE),\n",
        "               return_dict=True,\n",
        "               batch_size=BATCH_SIZE)"
      ],
      "metadata": {
        "colab": {
          "base_uri": "https://localhost:8080/"
        },
        "id": "feWeBevSIy7-",
        "outputId": "e95abb1c-ec43-402e-8a1d-75dfb80af960"
      },
      "execution_count": 62,
      "outputs": [
        {
          "output_type": "stream",
          "name": "stdout",
          "text": [
            "99/99 [==============================] - 14s 144ms/step - loss: 0.1877 - accuracy: 0.9295\n"
          ]
        },
        {
          "output_type": "execute_result",
          "data": {
            "text/plain": [
              "{'loss': 0.18766123056411743, 'accuracy': 0.9295238256454468}"
            ]
          },
          "metadata": {},
          "execution_count": 62
        }
      ]
    },
    {
      "cell_type": "markdown",
      "source": [
        "### Stage 5: Refine the model\n",
        "\n",
        "Once the model is built and trained, the result may not be satisfactory at times (we may not get expected performance from the model). The model may overfit or underfit depending on several factors. In order to improve the model, we can perfrom hyperparameter tuning. Some of the hyperparameters are the following,\n",
        "\n",
        "- Number of layers in the model (hidden layers) - too many layers can result in overfitting and too few layers will result in underfitting.\n",
        "- Number of units per layer - input layer should match the input size, and number of units in the hidden layer can be decided based on how do you wnat to respesent the data.\n",
        "- Dropout rate - to penalize the model from overfitting.\n",
        "- Learning rate - how fast the network should converge to the optimal values of the weights.\n",
        "\n",
        "You can try different configurations for the hyperparameters and see what works best for your model."
      ],
      "metadata": {
        "id": "hFfoP4uTj3wS"
      }
    },
    {
      "cell_type": "markdown",
      "source": [
        "### Stage 6: Deploy the model\n",
        "\n",
        "There are several options to deploy a model. You can also optimize the trianed model using quantization methods in order to deploy it in a resource constrained environment. Some of the available options are,\n",
        "\n",
        "1. [TensorFlow serving](https://www.tensorflow.org/tfx/guide/serving)\n",
        "2. [Pytorch Lightning](https://pytorch-lightning.readthedocs.io/en/stable/common/production_inference.html)\n",
        "3. Convert to [ONNX](https://onnx.ai/) format and choose the framework of your choice\n",
        "4. [Dockerize](https://www.docker.com/) your model and deploy using any REST API framework like [FastAPI](https://fastapi.tiangolo.com/) or [Flask with Gunicorn](https://dev.to/brandonwallace/deploy-flask-the-easy-way-with-gunicorn-and-nginx-jgc)\n",
        "\n",
        "Your job doesn't end there!! \n",
        "- You'll have to monitor your model for any performace degradation and drifts (model or data) while it is in production. Do the check regularly.\n",
        "- Collect more data while the model is in production through feedback.\n",
        "- If you find that the model is degrading, then you will have to retrain your model using the data collected from feedback.\n",
        "\n",
        "\n",
        "For the purpose of this demostration, let's look at how to use notebook as an interface to get predictions using Gradio.\n",
        "\n"
      ],
      "metadata": {
        "id": "_Wk1TcNLo1i-"
      }
    },
    {
      "cell_type": "code",
      "source": [
        "import gradio as gr\n",
        "\n",
        "def predict(sentence):\n",
        "    # Load model\n",
        "    loaded_model = TFDistilBertForSequenceClassification.from_pretrained(\"/tmp/sentiment_model\")\n",
        "\n",
        "    # Get the prediction\n",
        "    predict_input = tokenizer.encode(sentence,\n",
        "                                 truncation=True,\n",
        "                                 padding=True,\n",
        "                                 return_tensors=\"tf\")\n",
        "\n",
        "    tf_output = loaded_model.predict(predict_input)[0]\n",
        "    tf_prediction = tf.nn.softmax(tf_output, axis=1).numpy()[0]\n",
        "    return ['negative', 'positive'][np.argmax(tf_prediction)]\n",
        "\n",
        "demo = gr.Interface(fn=predict, inputs=\"text\", outputs=\"text\",live=False)\n",
        "\n",
        "demo.launch()"
      ],
      "metadata": {
        "colab": {
          "base_uri": "https://localhost:8080/",
          "height": 616
        },
        "id": "xbUSQ7mXLQ69",
        "outputId": "ab0094d2-fb20-495d-f848-3bf7cdf0f91f"
      },
      "execution_count": 64,
      "outputs": [
        {
          "output_type": "stream",
          "name": "stdout",
          "text": [
            "Colab notebook detected. To show errors in colab notebook, set debug=True in launch()\n",
            "Note: opening Chrome Inspector may crash demo inside Colab notebooks.\n",
            "\n",
            "To create a public link, set `share=True` in `launch()`.\n"
          ]
        },
        {
          "output_type": "display_data",
          "data": {
            "text/plain": [
              "<IPython.core.display.Javascript object>"
            ],
            "application/javascript": [
              "(async (port, path, width, height, cache, element) => {\n",
              "                        if (!google.colab.kernel.accessAllowed && !cache) {\n",
              "                            return;\n",
              "                        }\n",
              "                        element.appendChild(document.createTextNode(''));\n",
              "                        const url = await google.colab.kernel.proxyPort(port, {cache});\n",
              "\n",
              "                        const external_link = document.createElement('div');\n",
              "                        external_link.innerHTML = `\n",
              "                            <div style=\"font-family: monospace; margin-bottom: 0.5rem\">\n",
              "                                Running on <a href=${new URL(path, url).toString()} target=\"_blank\">\n",
              "                                    https://localhost:${port}${path}\n",
              "                                </a>\n",
              "                            </div>\n",
              "                        `;\n",
              "                        element.appendChild(external_link);\n",
              "\n",
              "                        const iframe = document.createElement('iframe');\n",
              "                        iframe.src = new URL(path, url).toString();\n",
              "                        iframe.height = height;\n",
              "                        iframe.allow = \"autoplay; camera; microphone; clipboard-read; clipboard-write;\"\n",
              "                        iframe.width = width;\n",
              "                        iframe.style.border = 0;\n",
              "                        element.appendChild(iframe);\n",
              "                    })(7861, \"/\", \"100%\", 500, false, window.element)"
            ]
          },
          "metadata": {}
        },
        {
          "output_type": "execute_result",
          "data": {
            "text/plain": []
          },
          "metadata": {},
          "execution_count": 64
        }
      ]
    },
    {
      "cell_type": "markdown",
      "source": [
        "<a style='text-decoration:none;line-height:16px;display:flex;color:#5B5B62;padding:10px;justify-content:end;' href='https://deepnote.com?utm_source=created-in-deepnote-cell&projectId=f2a99b51-b274-4e57-b790-07263784107d' target=\"_blank\">\n",
        "<img alt='Created in deepnote.com' style='display:inline;max-height:16px;margin:0px;margin-right:7.5px;' src='data:image/svg+xml;base64,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' > </img>\n",
        "Created in <span style='font-weight:600;margin-left:4px;'>Deepnote</span></a>"
      ],
      "metadata": {
        "tags": [],
        "created_in_deepnote_cell": true,
        "deepnote_cell_type": "markdown",
        "id": "6M0PcuRaaGS3"
      }
    }
  ]
}